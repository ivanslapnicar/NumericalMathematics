{
 "cells": [
  {
   "cell_type": "markdown",
   "metadata": {},
   "source": [
    "# More on Floating Point Arithmetic \n",
    "\n",
    "---\n",
    "\n",
    "Today we discuss some important issues in floating point arithmetic.\n",
    "Will start with some examples. Here is one that Texas Instrument calculators in\n",
    "the 1980's got wrong.\n",
    "\n",
    "__Example__\n",
    "\n",
    "Credited to W.J. \"Jim\" Cody of Argonne National Laboratory.\n",
    "\n",
    " Suppose we are working in a number system where $\\beta =10$ and\n",
    "$e \\in [-99,99]$. We want to find the modulus (length) of the complex number\n",
    "\n",
    "$$\n",
    "z = x + __i__ y.\n",
    "$$\n",
    "\n",
    "The formula is\n",
    "\n",
    "$$\n",
    "|z| = \\sqrt{x^2 + y^2}.\n",
    "$$\n",
    "\n",
    "This formula is not resistant to underflow and overflow. Gradual underflow was not common on computing devices of that period.\n",
    "\n",
    "For instance take the values \n",
    "\n",
    "$$\n",
    "x= 0.3 \\times 10^{-50}, \\quad y=0.4 \\times 10^{-50}.\n",
    "$$\n",
    "\n",
    "Using the formula we get\n",
    "\n",
    "\\begin{eqnarray*}\n",
    "x^2 = 0.09 \\times 10^{-100} \\quad \\mbox{ underflows to $0$}, \\\\\n",
    "y^2 = 0.16 \\times 10^{-100} \\quad \\mbox{ underflows to $0$}.\n",
    "\\end{eqnarray*}\n",
    "\n",
    "So we get\n",
    "\n",
    "$$\n",
    "|z| = \\sqrt{0+0} = 0.\n",
    "$$\n",
    "\n",
    "Rounding error is not an issue at all, but there is still a problem with this algorithm. That problem is underflow.\n",
    "Fortunately, it is correctable.\n",
    "\n",
    "If we let\n",
    "\n",
    "$$\n",
    "M = \\max \\{ |x|,|y|\\}, \\quad m = \\min \\{ |x|,|y| \\}, \\quad r = m/M.\n",
    "$$ \n",
    "\n",
    "Then\n",
    "\n",
    "$$\n",
    "|z| = M \\sqrt{1+r^2}.\n",
    "$$\n",
    "\n",
    "This will get a good result as long as $|z|$ is in range.\n",
    "\n",
    "\n",
    "Now here are some other rounding error examples.\n",
    "\n",
    "\n",
    "__Example__\n",
    "\n",
    "Suppose we wish to evaluate\n",
    "$$\n",
    "f(x) = \\tan \\: x - \\sin \\: x\n",
    "$$"
   ]
  },
  {
   "cell_type": "code",
   "execution_count": 1,
   "metadata": {
    "collapsed": false
   },
   "outputs": [
    {
     "name": "stdout",
     "output_type": "stream",
     "text": [
      "(1.0e-5,5.000001606324245e-16)\n",
      "(1.0e-6,4.999611971168508e-19)\n",
      "(1.0e-7,5.029258124322408e-22)\n",
      "(1.0e-8,0.0)\n",
      "(1.0e-9,0.0)\n",
      "(1.0e-10,0.0)\n"
     ]
    }
   ],
   "source": [
    "f(x)=tan(x)-sin(x)\n",
    "[println((x,f(x))) for x in [1e-5,1e-6,1e-7,1e-8,1e-9,1e-10]];\n",
    "#x=1e-5\n",
    "#for k=1:6\n",
    "#    println((x,f(x)))\n",
    "#    x=x/10\n",
    "#end"
   ]
  },
  {
   "cell_type": "markdown",
   "metadata": {},
   "source": [
    "$x$ near zero, say, $x = 10^{-10}$.\n",
    "\n",
    "In MATLAB you might do this.\n",
    "\n",
    "```\n",
    ">> tx = tan(x)\n",
    ">> sx = sin(x)\n",
    ">> fx = tx -sx\n",
    "```\n",
    "\n",
    "Below are two different ways to handle this.\n",
    "\n",
    "\n",
    "_Use Trigonometric Identities_\n",
    "\n",
    "\\begin{align*}\n",
    "f(x) &=\\tan \\: x - \\sin \\: x = \\tan \\: x (1 - \\cos \\: x ) \\\\\n",
    "&= \\tan \\: x (1-\\cos \\: x)(1+\\cos \\: x)/(1+\\cos \\: x) = \\tan \\: x (1-\\cos^2 \\: x)/(1+\\cos \\: x) \\\\\n",
    "&= \\tan \\: x \\sin^2\\; x/(1+\\cos \\: x)\n",
    "\\end{align*}"
   ]
  },
  {
   "cell_type": "code",
   "execution_count": 2,
   "metadata": {
    "collapsed": false
   },
   "outputs": [
    {
     "name": "stdout",
     "output_type": "stream",
     "text": [
      "(1.0e-5,5.000000000125e-16)\n",
      "(1.0e-6,5.000000000001249e-19)\n",
      "(1.0e-7,5.000000000000011e-22)\n",
      "(1.0e-8,5.0000000000000005e-25)\n",
      "(1.0e-9,5.000000000000001e-28)\n",
      "(1.0e-10,5.0e-31)\n"
     ]
    },
    {
     "name": "stderr",
     "output_type": "stream",
     "text": [
      "WARNING: Method definition f(Any) in module Main at In[1]:1 overwritten at In[2]:1.\n"
     ]
    }
   ],
   "source": [
    "f(x)=tan(x)*sin(x)^2/(1+cos(x))\n",
    "[println((x,f(x))) for x in [1e-5,1e-6,1e-7,1e-8,1e-9,1e-10]];"
   ]
  },
  {
   "cell_type": "markdown",
   "metadata": {},
   "source": [
    "For this expression, we get the correct answer\n",
    "$$\n",
    "f(10^{-10})= 5 \\times 10^{-31}.\n",
    "$$\n",
    "\n",
    "\n",
    "_Use Taylor Series_ \n",
    "\n",
    "We only need a few terms.\n",
    "\n",
    "\\begin{align*}\n",
    "\\tan \\: x &= x + \\frac{x^3}{3} + \\frac{2x^5}{15} + O(x^7) \\\\\n",
    "\\sin \\: x &= x -\\frac{x^3}{6} + \\frac{x^5}{120}+O(x^7) \\\\\n",
    "f(x)&= \\tan \\: x - \\sin \\: x = \\frac{x^3}{2} + \\frac{7x^5}{120} +O(x^7)\n",
    "\\end{align*}\n",
    "\n",
    "This series will compute $f(10^{-10})$ just as well."
   ]
  },
  {
   "cell_type": "code",
   "execution_count": 3,
   "metadata": {
    "collapsed": false
   },
   "outputs": [
    {
     "name": "stdout",
     "output_type": "stream",
     "text": [
      "(1.0e-5,5.000000000058335e-16)\n",
      "(1.0e-6,5.000000000000582e-19)\n",
      "(1.0e-7,5.000000000000004e-22)\n",
      "(1.0e-8,5.0000000000000005e-25)\n",
      "(1.0e-9,5.000000000000001e-28)\n",
      "(1.0e-10,5.0e-31)\n"
     ]
    },
    {
     "name": "stderr",
     "output_type": "stream",
     "text": [
      "WARNING: Method definition f(Any) in module Main at In[2]:1 overwritten at In[3]:1.\n"
     ]
    }
   ],
   "source": [
    "f(x)=x^3*(0.5+7x^2/120)\n",
    "[println((x,f(x))) for x in [1e-5,1e-6,1e-7,1e-8,1e-9,1e-10]];"
   ]
  },
  {
   "cell_type": "code",
   "execution_count": null,
   "metadata": {
    "collapsed": true
   },
   "outputs": [],
   "source": []
  }
 ],
 "metadata": {
  "kernelspec": {
   "display_name": "Julia 0.5.1",
   "language": "julia",
   "name": "julia-0.5"
  },
  "language_info": {
   "file_extension": ".jl",
   "mimetype": "application/julia",
   "name": "julia",
   "version": "0.5.1"
  }
 },
 "nbformat": 4,
 "nbformat_minor": 2
}
