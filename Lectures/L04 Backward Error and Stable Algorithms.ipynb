{
 "cells": [
  {
   "cell_type": "markdown",
   "metadata": {},
   "source": [
    "# Perturbation Theory, Backward Error and  Stable Algorithms\n",
    "\n",
    "\n",
    "\n",
    "## Perturbation theory\n",
    "\n",
    "__Question:__\n",
    "\n",
    "> _How much does the result change with respect to the change in input data?_\n",
    "\n",
    "For some function $f(x)$ and input datum $x$, we want to estimate\n",
    "__absolute error__ w.r.t.  __change of__ input datum for $\\delta x$,\n",
    "\n",
    "$$\n",
    "\\| f(x+\\delta x)-f(x)\\|\\leq \\kappa \\|\\delta x\\|,\n",
    "$$\n",
    "\n",
    "and __relative error__ w.r.t. __relative change of__ input datum for $\\displaystyle\\frac{\\| \\delta x\\|}{\\|x\\|}$,\n",
    "\n",
    "$$\n",
    "\\frac{\\| f(x+\\delta x)-f(x)\\|}{\\| f(x) \\|}\\leq \\kappa_R \\frac{\\| \\delta x \\|}{ \\|x\\|}.\n",
    "$$\n",
    "\n",
    "\n",
    "We have \n",
    "\n",
    "$$\n",
    "\\| f(x+\\delta x)-f(x)\\| = \\frac{\\| f(x+\\delta x)-f(x)\\|}{\\| \\delta x \\|} \\|\\delta x\\| \\equiv \\kappa \\|\\delta x\\|.\n",
    "$$\n",
    "\n",
    "The quantity $\\kappa$ is the __condition number__ or __condition__. \n",
    "It reminds us of a formula for derivative, and it tells us how much is the perurbation of input data magnified, at most.\n",
    "\n",
    "Similarly, in the expression\n",
    "\n",
    "$$\n",
    "\\frac{\\| f(x+\\delta x)-f(x)\\|}{\\| f(x) \\|}= \\frac{\\| f(x+\\delta x)-f(x)\\|\\cdot  \\|x\\| }{\\|\\delta x\\| \\cdot\\| f(x)\\|}\n",
    "\\cdot \\frac{\\|\\delta x\\|}{\\|x\\|} \\equiv \\kappa_R \\frac{\\|\\delta x\\|}{\\|x\\|},\n",
    "$$\n",
    "\n",
    "$\\kappa_R$ tells us how much is the relative perurbation of input data relatively magnified, at most."
   ]
  },
  {
   "cell_type": "markdown",
   "metadata": {},
   "source": [
    "## Backward error\n",
    "\n",
    "Let the value $f(x)$ be computed by some algorithm $\\mathrm{alg(x)}$.\n",
    "\n",
    "The __algorithm error__ is \n",
    "\n",
    "$$\n",
    "\\|\\mathrm{alg(x)}-f(x)\\|,\n",
    "$$\n",
    "\n",
    "and the __relative algorithm error__ is \n",
    "\n",
    "$$\n",
    "\\frac{\\| \\mathrm{alg}(x)-f(x)\\|}{\\| f(x) \\|}.\n",
    "$$\n",
    "\n",
    "These error are, in general, hard or impossible to estimate directly, \n",
    "and we study the  __backward error__,\n",
    "\n",
    "$$\n",
    "\\mathrm{alg}(x)=f(x+\\delta x),\n",
    "$$\n",
    "instead. In other words, \n",
    "\n",
    "> the computed value of a function $f$ for input $x$ is equal to the exact value of $f$ for the input pertubed with some (unknown) perturbation."
   ]
  },
  {
   "cell_type": "markdown",
   "metadata": {},
   "source": [
    "## Stable algorithms\n",
    "\n",
    "\n",
    "An algoritam is __stable__ if for every input $x$ \n",
    "\n",
    "$$\n",
    "\\mathrm{alg}(x)=f(x+\\delta x)\n",
    "$$\n",
    "\n",
    "for some small $ \\delta x$."
   ]
  },
  {
   "cell_type": "code",
   "execution_count": null,
   "metadata": {},
   "outputs": [],
   "source": []
  }
 ],
 "metadata": {
  "@webio": {
   "lastCommId": "9c2f3d65cd874b7998abbf89f0526faa",
   "lastKernelId": "4c410ce1-862f-4391-beb9-90db45912316"
  },
  "kernelspec": {
   "display_name": "Julia 1.4.2",
   "language": "julia",
   "name": "julia-1.4"
  },
  "language_info": {
   "file_extension": ".jl",
   "mimetype": "application/julia",
   "name": "julia",
   "version": "1.4.2"
  }
 },
 "nbformat": 4,
 "nbformat_minor": 1
}
