{
 "cells": [
  {
   "cell_type": "markdown",
   "metadata": {},
   "source": [
    "# Iterative Methods\n",
    "\n",
    "\n",
    "For large systems of linear equations, and in particular for sparse systems (few non-zero elements), and if the matrix is _strictly diagonally dominant_ , the solution can be computed using __iterative methods__\n",
    "(see [Numerička matematika, section 3.8](http://www.mathos.unios.hr/pim/Materijali/Num.pdf)):\n",
    "\n",
    "__Definition.__ Function $F:\\mathbb{R}^n\\to \\mathbb{R}^n$ is a __contraction__ if there is $q<1$ such that\n",
    "\n",
    "$$\n",
    "\\| F(x)-F(y)\\| < q\\|x-y\\|\\qquad \\forall x,y.$$\n",
    "\n",
    "__Banach Fixed Point Theorem.__\n",
    "If $F$ is a contraction, then the sequence defined by\n",
    "\n",
    "$$ \n",
    "x_{k+1}=F(x_k)$$\n",
    "\n",
    "converges towards the unique vector $\\tilde x$ for which\n",
    "\n",
    "$$\n",
    "\\tilde x = F(\\tilde x).$$\n",
    "\n",
    "$\\tilde x$ is the  __fixed point__ of the function $F$. Error in the  $k$-th step satisfies the bounds\n",
    "\n",
    "$$\n",
    "\\|x_k- \\tilde x\\| \\leq \\frac{q}{1-q} \\|x_k-x_{k-1}\\|$$\n",
    "\n",
    "and\n",
    "\n",
    "$$\n",
    "\\|x_k- \\tilde x\\| \\leq \\frac{q^k}{1-q} \\|x_1-x_{0}\\|,$$\n",
    "\n",
    "where the second bound is better. The speed of convergence is __linear__ ,\n",
    "\n",
    "$$\n",
    "\\|x_{k+1}-\\tilde x\\| \\leq q\\| x_k-\\tilde x\\|.$$"
   ]
  },
  {
   "cell_type": "markdown",
   "metadata": {},
   "source": [
    "\n",
    "## Jacobi and  Gauss-Seidel methods\n",
    "\n",
    "Let\n",
    "\n",
    "$$F(x)=Bx+c,$$\n",
    "\n",
    "where $B$ is a square matrix. Then\n",
    "\n",
    "$$\n",
    "\\| F(x)-F(y)\\|=\\| Bx+c-(By+c)\\|=\\|B(x-y)\\| \\leq \\|B\\| \\|x-y\\|,\n",
    "$$\n",
    "\n",
    "so $F$ is a contraction if\n",
    "\n",
    "$$\\|B\\|=q<1.$$\n",
    "\n",
    "Consider the system  $Ax=b$. Decompose $A$ as\n",
    "\n",
    "$$A=D\\,(L+I+U)$$\n",
    "\n",
    "where $D$ is a diagonal matrix, $L$ is strictly lower triangular matrix and $U$ is strictly upper triangular matrix.\n",
    "\n",
    "### Jacobi method\n",
    "\n",
    "Let\n",
    "\n",
    "$$\n",
    "B=-(L+U), \\quad c=D^{-1}b.$$\n",
    "\n",
    "\n",
    "If the matrix $A$ is __strictly diagonally dominant__ , \n",
    "\n",
    "$$\n",
    "\\| B\\|_{\\infty} = \\max_i \\sum_{{j=1} \\atop {j\\neq i}}^n \\frac{|a_{ij}|}{|a_{ii}|}<1,$$\n",
    "\n",
    "then the map $F$ is a contraction (here it is possible to take other norma, as well) so the sequence\n",
    "\n",
    "$$\n",
    "x_{k+1}=-(L+U)x_k+c$$\n",
    "\n",
    "converges towards the solution of the system $x$.\n",
    "\n",
    "### Gauss-Seidel method \n",
    "\n",
    "Let\n",
    "\n",
    "$$\n",
    "B=-(I+L)^{-1}U, \\quad c=(I+L)^{-1}\\, D^{-1}b.\n",
    "$$\n",
    "\n",
    "Without proof we state the following: if the matrix $A$ is strictly diagonally dominant, then the map $F$ is a contraction, and the sequence\n",
    "\n",
    "$$\n",
    "x_{k+1}=-(I+L)^{-1}Ux_k+(I+L)^{-1}D^{-1}b,\n",
    "$$\n",
    "\n",
    "or\n",
    "\n",
    "$$\n",
    "x_{k+1}=-Lx_{k+1}-Ux_k+D^{-1}b,\n",
    "$$\n",
    "\n",
    "converges towards the solution $x$."
   ]
  },
  {
   "cell_type": "code",
   "execution_count": 1,
   "metadata": {},
   "outputs": [
    {
     "data": {
      "text/plain": [
       "myjacobi (generic function with 1 method)"
      ]
     },
     "execution_count": 1,
     "metadata": {},
     "output_type": "execute_result"
    }
   ],
   "source": [
    "using LinearAlgebra\n",
    "function myjacobi(A::Array,b::Array,x::Array)\n",
    "    D=diag(A)\n",
    "    L=tril(A,-1)./D\n",
    "    U=triu(A,1)./D\n",
    "    tol=1000*eps()\n",
    "    d=1.0\n",
    "    B=-(L+U)\n",
    "    c=b./D\n",
    "    q=norm(B,Inf)\n",
    "    # @show q\n",
    "    while d>tol\n",
    "        y=B*x+c\n",
    "        d=norm(x-y,Inf)\n",
    "        # @show d\n",
    "        x=y\n",
    "    end\n",
    "    x,d\n",
    "end"
   ]
  },
  {
   "cell_type": "code",
   "execution_count": 2,
   "metadata": {},
   "outputs": [
    {
     "data": {
      "text/plain": [
       "8-element Array{Float64,1}:\n",
       " 0.9249649192337484\n",
       " 0.34893902341348704\n",
       " 0.7844226234383731\n",
       " 0.8497747226798917\n",
       " 0.11992936825521072\n",
       " 0.8601428096736736\n",
       " 0.5768075478278709\n",
       " 0.17805867488523286"
      ]
     },
     "execution_count": 2,
     "metadata": {},
     "output_type": "execute_result"
    }
   ],
   "source": [
    "import Random\n",
    "Random.seed!(123)\n",
    "n=8\n",
    "A=rand(n,n)\n",
    "# Let us make the matrix diagonally dominant\n",
    "A=A+n*I\n",
    "b=rand(n)"
   ]
  },
  {
   "cell_type": "code",
   "execution_count": 3,
   "metadata": {},
   "outputs": [
    {
     "data": {
      "text/plain": [
       "8-element Array{Float64,1}:\n",
       " 0.9519169935552045\n",
       " 0.8780997467517853\n",
       " 0.009166252824636123\n",
       " 0.5958963124776646\n",
       " 0.9543508839651555\n",
       " 0.8419452294952618\n",
       " 0.2961019161242846\n",
       " 0.8557272304345225"
      ]
     },
     "execution_count": 3,
     "metadata": {},
     "output_type": "execute_result"
    }
   ],
   "source": [
    "# Starting vector\n",
    "x₀=rand(n)"
   ]
  },
  {
   "cell_type": "code",
   "execution_count": 4,
   "metadata": {},
   "outputs": [
    {
     "data": {
      "text/plain": [
       "8-element Array{Float64,1}:\n",
       "  0.08980305378762726\n",
       "  0.014317578796243843\n",
       "  0.07456867749469606\n",
       "  0.0821775198466023\n",
       " -0.006931841179289444\n",
       "  0.08111609269051698\n",
       "  0.056856588309506684\n",
       " -0.005698840205529316"
      ]
     },
     "execution_count": 4,
     "metadata": {},
     "output_type": "execute_result"
    }
   ],
   "source": [
    "x,d=myjacobi(A,b,x₀)\n",
    "# Solution\n",
    "x"
   ]
  },
  {
   "cell_type": "code",
   "execution_count": 5,
   "metadata": {},
   "outputs": [
    {
     "data": {
      "text/plain": [
       "1.6361911825413245e-13"
      ]
     },
     "execution_count": 5,
     "metadata": {},
     "output_type": "execute_result"
    }
   ],
   "source": [
    "# Norm of the difference of two final iterations\n",
    "d"
   ]
  },
  {
   "cell_type": "code",
   "execution_count": 6,
   "metadata": {},
   "outputs": [
    {
     "data": {
      "text/plain": [
       "8-element Array{Float64,1}:\n",
       " -3.3995029014022293e-13\n",
       " -4.472533454702443e-13\n",
       " -3.397282455352979e-13\n",
       " -3.3006930522105904e-13\n",
       " -3.97237798210881e-13\n",
       " -5.331290964250002e-13\n",
       " -2.73003841755326e-13\n",
       " -4.266031972122164e-13"
      ]
     },
     "execution_count": 6,
     "metadata": {},
     "output_type": "execute_result"
    }
   ],
   "source": [
    "# Residual\n",
    "r=A*x-b"
   ]
  },
  {
   "cell_type": "code",
   "execution_count": 7,
   "metadata": {},
   "outputs": [
    {
     "data": {
      "text/plain": [
       "2.6299688420966703e-13"
      ]
     },
     "execution_count": 7,
     "metadata": {},
     "output_type": "execute_result"
    }
   ],
   "source": [
    "# Let us check the norm of the relative residual\n",
    "norm(r)/(norm(A)*norm(x))"
   ]
  },
  {
   "cell_type": "code",
   "execution_count": 8,
   "metadata": {},
   "outputs": [
    {
     "data": {
      "text/plain": [
       "mygaussseidel (generic function with 1 method)"
      ]
     },
     "execution_count": 8,
     "metadata": {},
     "output_type": "execute_result"
    }
   ],
   "source": [
    "function mygaussseidel(A::Array,b::Array,x::Array)\n",
    "    D=diag(A)\n",
    "    L=tril(A,-1)./D\n",
    "    U=triu(A,1)./D\n",
    "    tol=1000*eps()\n",
    "    d=1.0\n",
    "    # B=-inv(I+L)*U\n",
    "    B=-(I+L)\\U\n",
    "    c=(I+L)\\(b./D)\n",
    "    # @show norm(U,Inf)\n",
    "    y=Vector{Float64}(undef,n)\n",
    "    while d>tol\n",
    "        y=B*x+c\n",
    "        d=norm(x-y)\n",
    "        x=y\n",
    "    end\n",
    "    x,d\n",
    "end"
   ]
  },
  {
   "cell_type": "code",
   "execution_count": 9,
   "metadata": {},
   "outputs": [
    {
     "data": {
      "text/plain": [
       "8-element Array{Float64,1}:\n",
       "  0.08980305378765456\n",
       "  0.01431757879628013\n",
       "  0.07456867749472151\n",
       "  0.08217751984662743\n",
       " -0.006931841179257599\n",
       "  0.08111609269056345\n",
       "  0.056856588309531365\n",
       " -0.005698840205490856"
      ]
     },
     "execution_count": 9,
     "metadata": {},
     "output_type": "execute_result"
    }
   ],
   "source": [
    "x,d=mygaussseidel(A,b,x₀)\n",
    "# Solution\n",
    "x"
   ]
  },
  {
   "cell_type": "code",
   "execution_count": 10,
   "metadata": {},
   "outputs": [
    {
     "data": {
      "text/plain": [
       "7.735947486444373e-14"
      ]
     },
     "execution_count": 10,
     "metadata": {},
     "output_type": "execute_result"
    }
   ],
   "source": [
    "# Norm of the difference of two final iterations\n",
    "d"
   ]
  },
  {
   "cell_type": "code",
   "execution_count": 11,
   "metadata": {},
   "outputs": [
    {
     "data": {
      "text/plain": [
       "8-element Array{Float64,1}:\n",
       " -5.773159728050814e-15\n",
       " -2.930988785010413e-14\n",
       " -2.6645352591003757e-14\n",
       " -1.7430501486614958e-14\n",
       " -6.7307270867900115e-15\n",
       " -3.552713678800501e-15\n",
       " -2.220446049250313e-16\n",
       "  2.7755575615628914e-17"
      ]
     },
     "execution_count": 11,
     "metadata": {},
     "output_type": "execute_result"
    }
   ],
   "source": [
    "# Residual\n",
    "A*x-b"
   ]
  },
  {
   "cell_type": "markdown",
   "metadata": {
    "collapsed": true
   },
   "source": [
    "Let us measure the speed for larger matrices:"
   ]
  },
  {
   "cell_type": "code",
   "execution_count": 12,
   "metadata": {},
   "outputs": [
    {
     "data": {
      "text/plain": [
       "1024-element Array{Float64,1}:\n",
       " 0.16641614093330026\n",
       " 0.602302264828624\n",
       " 0.466840691287818\n",
       " 0.39403858534532366\n",
       " 0.0791761643861233\n",
       " 0.13658772904085992\n",
       " 0.6473994571097141\n",
       " 0.18238250664440225\n",
       " 0.29197913832578726\n",
       " 0.10273804645853324\n",
       " 0.3907351461765771\n",
       " 0.8087040779127272\n",
       " 0.6398599234494022\n",
       " ⋮\n",
       " 0.05098896595273139\n",
       " 0.26938136455069683\n",
       " 0.9663749687160927\n",
       " 0.6569570021468696\n",
       " 0.6384179322464334\n",
       " 0.6936973328260423\n",
       " 0.5029705029470937\n",
       " 0.16629793407793225\n",
       " 0.7268488402721949\n",
       " 0.18606528684826107\n",
       " 0.7721857392292089\n",
       " 0.8819063375259617"
      ]
     },
     "execution_count": 12,
     "metadata": {},
     "output_type": "execute_result"
    }
   ],
   "source": [
    "n=1024\n",
    "A=rand(n,n)\n",
    "A=A+n*I\n",
    "b=rand(n)\n",
    "x₀=rand(n)"
   ]
  },
  {
   "cell_type": "code",
   "execution_count": 15,
   "metadata": {},
   "outputs": [
    {
     "name": "stdout",
     "output_type": "stream",
     "text": [
      "  0.066748 seconds (69 allocations: 64.413 MiB, 7.85% gc time)\n"
     ]
    }
   ],
   "source": [
    "@time mygaussseidel(A,b,x₀);"
   ]
  },
  {
   "cell_type": "code",
   "execution_count": 14,
   "metadata": {},
   "outputs": [
    {
     "name": "stdout",
     "output_type": "stream",
     "text": [
      "  0.055581 seconds (15 allocations: 8.017 MiB, 21.32% gc time)\n"
     ]
    }
   ],
   "source": [
    "@time A\\b;"
   ]
  },
  {
   "cell_type": "markdown",
   "metadata": {},
   "source": [
    "__Problem.__ Try to rewrite our functions to allocate less memory."
   ]
  },
  {
   "cell_type": "code",
   "execution_count": null,
   "metadata": {},
   "outputs": [],
   "source": []
  }
 ],
 "metadata": {
  "@webio": {
   "lastCommId": "f8f948aaedc84efa8d3f0619aca88277",
   "lastKernelId": "125e93b8-dc01-4bdd-9435-33c524ac1a38"
  },
  "kernelspec": {
   "display_name": "Julia 1.5.2",
   "language": "julia",
   "name": "julia-1.5"
  },
  "language_info": {
   "file_extension": ".jl",
   "mimetype": "application/julia",
   "name": "julia",
   "version": "1.5.2"
  }
 },
 "nbformat": 4,
 "nbformat_minor": 1
}
