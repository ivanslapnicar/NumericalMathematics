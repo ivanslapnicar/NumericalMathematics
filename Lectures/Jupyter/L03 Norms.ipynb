{
 "cells": [
  {
   "cell_type": "markdown",
   "metadata": {},
   "source": [
    "# Norms\n",
    "\n",
    "\n",
    "__Norm__ on a vector space $X$ is any function $\\| \\phantom{x} \\| : X\\to \\mathbb{R}$ with  the following properties:\n",
    "\n",
    "1. $\\| x\\|=0\\| \\Leftrightarrow x=0$\n",
    "2. $\\| \\lambda x\\|=|\\lambda| \\|x\\|$\n",
    "3. $\\| x+y\\| \\leq \\|x\\|+\\|y\\|$ (triangle inequality)"
   ]
  },
  {
   "cell_type": "markdown",
   "metadata": {},
   "source": [
    "## Vector norms\n",
    "\n",
    "For $X=\\mathbb{R}^n$ we have\n",
    "\n",
    "$$\\|x\\|_p=\\big(\\sum_{i=1}^n |x_i|^p\\big)^{1/p}$$\n",
    "\n",
    "Specially:\n",
    "\n",
    "* $\\|x\\|_1=\\sum_{i=1}^n |x_i|\\qquad $  (Manhattan norm or Taxicab norm)\n",
    "* $\\|x\\|_2=\\sqrt{\\sum_{i=1}^n x_i^2}= \\sqrt{x\\cdot x}\\qquad $ (Euclidean norm)\n",
    "* $\\|x\\|_\\infty = \\max\\limits_{i=1,\\ldots,n} |x_i|\\qquad $ (Maximum norm)"
   ]
  },
  {
   "cell_type": "code",
   "execution_count": 1,
   "metadata": {},
   "outputs": [
    {
     "data": {
      "text/plain": [
       "5-element Array{Int64,1}:\n",
       "  0\n",
       " -2\n",
       " -3\n",
       "  4\n",
       "  3"
      ]
     },
     "execution_count": 1,
     "metadata": {},
     "output_type": "execute_result"
    }
   ],
   "source": [
    "using LinearAlgebra\n",
    "import Random\n",
    "Random.seed!(123)\n",
    "x=rand(-4:4,5)"
   ]
  },
  {
   "cell_type": "code",
   "execution_count": 2,
   "metadata": {},
   "outputs": [
    {
     "data": {
      "text/plain": [
       "(12.0, 6.164414002968976, 4.0)"
      ]
     },
     "execution_count": 2,
     "metadata": {},
     "output_type": "execute_result"
    }
   ],
   "source": [
    "norm(x,1), norm(x), norm(x,Inf)"
   ]
  },
  {
   "cell_type": "markdown",
   "metadata": {},
   "source": [
    "## Matrix norms\n",
    "\n",
    "From every vector norm we can derive a matrix norm (_induced norms_ ):\n",
    "\n",
    "$$\\|A\\| = \\max\\limits_{x\\neq 0} \\frac{\\|Ax\\|}{\\|x\\|}=\\max\\limits_{\\|x\\|=1} \\|Ax\\|$$\n",
    "\n",
    "Specially:\n",
    "\n",
    "* $\\|A\\|_1=\\max\\limits_{j=1:n} \\sum_{i=1}^n |a_{ij}|\\qquad $  (largest 1-norm of a column)\n",
    "* $\\|A\\|_{\\infty}=\\max\\limits_{i=1:n} \\sum_{j=1}^n |a_{ij}|\\qquad $  (largest 1-norm of a row)\n",
    "* $\\|A\\|_2\\qquad $  (largest singular value of matrix $A$)\n",
    "\n",
    "_Frobenius_ or _Euclidean_ norm\n",
    "\n",
    "$$\\|A\\|_F =\\sqrt{\\sum_{i,j=1}^n a_{ij}^2}$$\n",
    "\n",
    "is not an induced norm.\n",
    "\n",
    "Matrix norms also have the property\n",
    "\n",
    "$$\n",
    "\\|A\\cdot B\\|\\leq \\|A\\| \\cdot \\| B\\|.\n",
    "$$"
   ]
  },
  {
   "cell_type": "code",
   "execution_count": 3,
   "metadata": {},
   "outputs": [
    {
     "data": {
      "text/plain": [
       "5×5 Array{Int64,2}:\n",
       "  3  -1   0   4  2\n",
       "  3   1   4   1  2\n",
       "  0   3   2  -1  0\n",
       " -3   1  -3  -3  3\n",
       "  3  -2  -4   1  0"
      ]
     },
     "execution_count": 3,
     "metadata": {},
     "output_type": "execute_result"
    }
   ],
   "source": [
    "A=rand(-4:4,5,5)"
   ]
  },
  {
   "cell_type": "code",
   "execution_count": 4,
   "metadata": {},
   "outputs": [
    {
     "data": {
      "text/plain": [
       "(50.0, 11.916375287812984, 11.916375287812984, 4.0, 8.145921945900907, 8.145921945900907)"
      ]
     },
     "execution_count": 4,
     "metadata": {},
     "output_type": "execute_result"
    }
   ],
   "source": [
    "norm(A,1), norm(A), norm(A,2), norm(A,Inf), opnorm(A),maximum(svdvals(A))"
   ]
  },
  {
   "cell_type": "markdown",
   "metadata": {
    "collapsed": true
   },
   "source": [
    "## Scalar (dot)  product, norm and orthogonality \n",
    "\n",
    "\n",
    "_Scalar product_ or _dot product_ on a vector space $X$ is every map $\\cdot : X\\times X \\to \\mathbb{R}$ with the following properties:\n",
    "\n",
    "1. $x\\cdot x\\geq 0$\n",
    "1. $x\\cdot x=0 \\Leftrightarrow x=0$\n",
    "2. $x\\cdot y=y\\cdot x$\n",
    "3. $(\\alpha x)\\cdot y =\\alpha (x\\cdot y)$\n",
    "3. $(x+y)\\cdot z=x\\cdot z+y \\cdot z$\n",
    "\n",
    "If scalar product is defined on a vector space, we can define norm as\n",
    "\n",
    "$$\n",
    "\\|x\\|=\\sqrt{x\\cdot x}.\n",
    "$$\n",
    "\n",
    "Also, if $x \\cdot y=0$ we say that the vectors $x$ and $y$ are _mutually orthogonal (perpendicular)_.  \n",
    "\n",
    "For example, the standard vector norm \n",
    "\n",
    "$$\\|x\\|_2=\\sqrt{\\sum_{i=1}^n x_i^2}= \\sqrt{x\\cdot x}$$\n",
    "\n",
    "is defined by the dot product of vectors, \n",
    "\n",
    "$$x\\cdot y=\\sum_{i=1}^n  x_i y_i,$$\n",
    "\n",
    "and vectors $x$ and $y$ are orthogonal, $x\\perp y$, if\n",
    "$x\\cdot y=0$.\n",
    "\n",
    "The scalar product of functions is defined via (definite) integral:\n",
    "\n",
    "$$\n",
    "f\\cdot g = \\int_a^b f(x)g(x) \\, dx.\n",
    "$$\n",
    "\n",
    "The other definitions remain the same:\n",
    "\n",
    "$$\\| f\\|_2= \\sqrt{f\\cdot f} = \\sqrt{\\int_a^b [f(x)]^2 \\, dx},$$\n",
    "\n",
    "$$ f\\perp g \\Longleftrightarrow f\\cdot g =0.$$"
   ]
  },
  {
   "cell_type": "code",
   "execution_count": null,
   "metadata": {},
   "outputs": [],
   "source": []
  }
 ],
 "metadata": {
  "@webio": {
   "lastCommId": "f4af0cc0ec4544f980f74d54bfa5079f",
   "lastKernelId": "5695b31c-78b7-4b7a-888c-2953b9fee4a1"
  },
  "kernelspec": {
   "display_name": "Julia 1.4.2",
   "language": "julia",
   "name": "julia-1.4"
  },
  "language_info": {
   "file_extension": ".jl",
   "mimetype": "application/julia",
   "name": "julia",
   "version": "1.4.2"
  }
 },
 "nbformat": 4,
 "nbformat_minor": 1
}
