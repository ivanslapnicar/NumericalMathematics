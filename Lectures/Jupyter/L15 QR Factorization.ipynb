{
 "cells": [
  {
   "cell_type": "markdown",
   "metadata": {},
   "source": [
    "# QR Factorization\n",
    "\n",
    "---\n",
    "\n",
    "__QR factorization__ of a $m\\times n$ matrix $A$, where $m\\geq n$, is\n",
    "\n",
    "$$\n",
    "A=QR, \n",
    "$$\n",
    "\n",
    "where $Q$ is an __ortonormal matrix__ of size $m\\times m$, or\n",
    "\n",
    "$$\n",
    "Q^TQ=Q Q^T=I,\n",
    "$$\n",
    "\n",
    "and $R$ is a $m\\times n$ upper triangular matrix.\n",
    "\n",
    "We call an orthonormal matrix also __orthogonal matrix__.\n",
    "\n",
    "For example,\n",
    "\n",
    "\\begin{align*}\n",
    "\\begin{bmatrix} a_{11} & a_{12} & a_{13} \\\\\n",
    "a_{21} & a_{22} & a_{23} \\\\\n",
    "a_{31} & a_{32} & a_{33} \\\\\n",
    "a_{41} & a_{42} & a_{43} \\\\\n",
    "a_{51} & a_{52} & a_{53}\n",
    "\\end{bmatrix}=\n",
    "\\begin{bmatrix}\n",
    "q_{11} & q_{12} & q_{13} & q_{14} & q_{15} \\\\\n",
    "q_{21} & q_{22} & q_{23} & q_{24} & q_{25} \\\\\n",
    "q_{31} & q_{32} & q_{33} & q_{34} & q_{35} \\\\\n",
    "q_{41} & q_{42} & q_{43} & q_{44} & q_{45} \\\\\n",
    "q_{51} & q_{52} & q_{53} & q_{54} & q_{55}\n",
    "\\end{bmatrix}\n",
    "\\begin{bmatrix}\n",
    "r_{11} & r_{12} & r_{13} \\\\\n",
    "0 & r_{22} & r_{23} \\\\\n",
    "0 & 0 & r_{33} \\\\\n",
    "0 & 0 & 0 \\\\\n",
    "0 & 0 & 0 \n",
    "\\end{bmatrix}. \\tag{1}\n",
    "\\end{align*}\n",
    "\n",
    "The relation (1) also defines an  __economical QR factorization__\n",
    "\n",
    "\\begin{align*}\n",
    "\\begin{bmatrix} a_{11} & a_{12} & a_{13} \\\\\n",
    "a_{21} & a_{22} & a_{23} \\\\\n",
    "a_{31} & a_{32} & a_{33} \\\\\n",
    "a_{41} & a_{42} & a_{43} \\\\\n",
    "a_{51} & a_{52} & a_{53}\n",
    "\\end{bmatrix}=\n",
    "\\begin{bmatrix}\n",
    "q_{11} & q_{12} & q_{13} \\\\\n",
    "q_{21} & q_{22} & q_{23} \\\\\n",
    "q_{31} & q_{32} & q_{33} \\\\\n",
    "q_{41} & q_{42} & q_{43} \\\\\n",
    "q_{51} & q_{52} & q_{53}\n",
    "\\end{bmatrix}\n",
    "\\begin{bmatrix}\n",
    "r_{11} & r_{12} & r_{13} \\\\\n",
    "0 & r_{22} & r_{23} \\\\\n",
    "0 & 0 & r_{33}\n",
    "\\end{bmatrix}. \\tag{2}\n",
    "\\end{align*}\n",
    "\n",
    "\n",
    "Equating columns starting from the first one, gives:\n",
    "\n",
    "\\begin{align*}\n",
    "t&=a_{:1}\\\\\n",
    "r_{11}&=\\|t\\|_2 \\\\\n",
    "q_{:1}&=t\\frac{1}{r_{11}}\\\\\n",
    "r_{12}&= q_{:1}^Ta_{:2} \\\\\n",
    "t&=a_{:2}-q_{:1}r_{12} \\\\\n",
    "r_{22}&=\\|t\\|_2 \\\\\n",
    "q_{:2}&=t\\frac{1}{r_{22}} \\\\\n",
    "r_{13}&=q_{:1}^Ta_{:3} \\\\\n",
    "r_{23}&=q_{:2}^Ta_{:3} \\\\\n",
    "t&=a_{:3}-q_{:1}r_{13}-q_{:2}r_{23}\\\\\n",
    "r_{33}&=\\|t\\|_2 \\\\\n",
    "q_{:3}&=t\\frac{1}{r_{33}}.\n",
    "\\end{align*}\n",
    "\n",
    "Induction yields __Gram-Schmidt orthogonalization procedure__."
   ]
  },
  {
   "cell_type": "code",
   "execution_count": 1,
   "metadata": {},
   "outputs": [
    {
     "data": {
      "text/plain": [
       "GramSchmidtQR (generic function with 1 method)"
      ]
     },
     "execution_count": 1,
     "metadata": {},
     "output_type": "execute_result"
    }
   ],
   "source": [
    "using LinearAlgebra\n",
    "function GramSchmidtQR(A::Array)\n",
    "    m,n=size(A)\n",
    "    R=zeros(n,n)\n",
    "    Q=Array{Float64}(undef,m,n)\n",
    "    R[1,1]=norm(A[:,1])\n",
    "    Q[:,1]=A[:,1]/R[1,1]\n",
    "    for k=2:n\n",
    "        for i=1:k-1\n",
    "            R[i,k]=Q[:,i]⋅A[:,k]\n",
    "        end\n",
    "        t=A[:,k]-sum([R[i,k]*Q[:,i] for i=1:k-1])\n",
    "        R[k,k]=norm(t)\n",
    "        Q[:,k]=t/R[k,k]\n",
    "    end\n",
    "    Q,R\n",
    "end "
   ]
  },
  {
   "cell_type": "code",
   "execution_count": 2,
   "metadata": {},
   "outputs": [
    {
     "data": {
      "text/plain": [
       "8×5 Array{Float64,2}:\n",
       " 0.768448   0.26864   0.275819  0.20923   0.356221\n",
       " 0.940515   0.108871  0.446568  0.918165  0.900925\n",
       " 0.673959   0.163666  0.582318  0.614255  0.529253\n",
       " 0.395453   0.473017  0.255981  0.802665  0.031831\n",
       " 0.313244   0.865412  0.70586   0.555668  0.900681\n",
       " 0.662555   0.617492  0.291978  0.940782  0.940299\n",
       " 0.586022   0.285698  0.281066  0.48      0.621379\n",
       " 0.0521332  0.463847  0.792931  0.790201  0.348173"
      ]
     },
     "execution_count": 2,
     "metadata": {},
     "output_type": "execute_result"
    }
   ],
   "source": [
    "import Random\n",
    "Random.seed!(123)\n",
    "A=rand(8,5)"
   ]
  },
  {
   "cell_type": "code",
   "execution_count": 3,
   "metadata": {},
   "outputs": [
    {
     "data": {
      "text/plain": [
       "([0.4459793428925313 -0.11247250760342886 … -0.5812166712836059 -0.41412595632067195; 0.5458410188985631 -0.35479752607940923 … 0.2965179575333956 0.30357335777811606; … ; 0.3401061260963262 -0.005962161430000556 … -0.07610095803321874 0.14145810224715058; 0.030256209503033652 0.43235726102632527 … 0.25137006145700375 -0.1283593711674988], [1.7230566559710467 0.8577805301619602 … 1.6688916514356933 1.6121226948829994; 0.0 1.012805983168232 … 0.760567613361574 0.6039879528877767; … ; 0.0 0.0 … 0.6864929839600884 -0.0027145072616664018; 0.0 0.0 … 0.0 0.6528889504004459])"
      ]
     },
     "execution_count": 3,
     "metadata": {},
     "output_type": "execute_result"
    }
   ],
   "source": [
    "Q,R=GramSchmidtQR(A)"
   ]
  },
  {
   "cell_type": "code",
   "execution_count": 4,
   "metadata": {},
   "outputs": [
    {
     "data": {
      "text/plain": [
       "8×5 Array{Float64,2}:\n",
       " 0.445979   -0.112473    -0.144567   -0.581217   -0.414126\n",
       " 0.545841   -0.354798     0.210356    0.296518    0.303573\n",
       " 0.391141   -0.169675     0.45213    -0.0982655  -0.123261\n",
       " 0.229507    0.272659    -0.24854     0.435716   -0.699857\n",
       " 0.181796    0.700501     0.0463297  -0.432191    0.268038\n",
       " 0.384523    0.284018    -0.440047    0.344953    0.350741\n",
       " 0.340106   -0.00596216  -0.0882082  -0.076101    0.141458\n",
       " 0.0302562   0.432357     0.681975    0.25137    -0.128359"
      ]
     },
     "execution_count": 4,
     "metadata": {},
     "output_type": "execute_result"
    }
   ],
   "source": [
    "Q"
   ]
  },
  {
   "cell_type": "code",
   "execution_count": 5,
   "metadata": {},
   "outputs": [
    {
     "data": {
      "text/plain": [
       "5×5 Array{Float64,2}:\n",
       " 1.0           1.75748e-16   1.92453e-16   3.41335e-16   1.11022e-16\n",
       " 1.75748e-16   1.0          -1.1918e-16   -2.4266e-16   -2.22045e-16\n",
       " 1.92453e-16  -1.1918e-16    1.0          -2.02216e-16  -2.77556e-16\n",
       " 3.41335e-16  -2.4266e-16   -2.02216e-16   1.0          -6.10623e-16\n",
       " 1.11022e-16  -2.22045e-16  -2.77556e-16  -6.10623e-16   1.0"
      ]
     },
     "execution_count": 5,
     "metadata": {},
     "output_type": "execute_result"
    }
   ],
   "source": [
    "Q'*Q"
   ]
  },
  {
   "cell_type": "code",
   "execution_count": 6,
   "metadata": {},
   "outputs": [
    {
     "data": {
      "text/plain": [
       "5×5 Array{Float64,2}:\n",
       " 1.72306  0.857781  1.01346   1.66889    1.61212\n",
       " 0.0      1.01281   0.700064  0.760568   0.603988\n",
       " 0.0      0.0       0.67391   0.349435   0.179984\n",
       " 0.0      0.0       0.0       0.686493  -0.00271451\n",
       " 0.0      0.0       0.0       0.0        0.652889"
      ]
     },
     "execution_count": 6,
     "metadata": {},
     "output_type": "execute_result"
    }
   ],
   "source": [
    "R"
   ]
  },
  {
   "cell_type": "code",
   "execution_count": 7,
   "metadata": {},
   "outputs": [
    {
     "data": {
      "text/plain": [
       "8×5 Array{Float64,2}:\n",
       " 0.0   0.0           0.0           0.0           0.0\n",
       " 0.0   2.77556e-17   5.55112e-17  -1.11022e-16   0.0\n",
       " 0.0   0.0           0.0           0.0           0.0\n",
       " 0.0   5.55112e-17   0.0           0.0          -2.77556e-17\n",
       " 0.0   0.0          -1.11022e-16  -1.11022e-16   0.0\n",
       " 0.0   0.0           0.0          -1.11022e-16   0.0\n",
       " 0.0   0.0           0.0           0.0           0.0\n",
       " 0.0  -5.55112e-17   0.0           0.0           0.0"
      ]
     },
     "execution_count": 7,
     "metadata": {},
     "output_type": "execute_result"
    }
   ],
   "source": [
    "# Residual\n",
    "A-Q*R"
   ]
  },
  {
   "cell_type": "markdown",
   "metadata": {},
   "source": [
    "Algorithm `GramSchmidtQR()` is numerically unstable, so it is better to use __modified Gram-Schmidt algorithm__ or __Householder reflectors__ or __Givens rotations__ (see [Matrix Computations, Section 5][GVL13]).\n",
    "\n",
    "[GVL13]: https://books.google.hr/books?id=X5YfsuCWpxMC&printsec=frontcover&hl=hr#v=onepage&q&f=false \"G. Golub and C. F Van Loan, 'Matrix Computations', 4th Edition, John Hopkins, Baltimore, 2013\""
   ]
  },
  {
   "cell_type": "markdown",
   "metadata": {},
   "source": [
    "## Householder reflectors\n",
    "\n",
    "__QR factorization of vector__ $x$ is\n",
    "\n",
    "$$\n",
    "H \\begin{bmatrix} x_1 \\\\ x_2 \\\\ \\vdots \\\\ x_m \n",
    "\\end{bmatrix}  =r,\n",
    "$$\n",
    "\n",
    "where\n",
    "\n",
    "$$\n",
    "H=I - \\frac{2}{v^Tv}v v^T, \\qquad  \n",
    "v=\\begin{bmatrix}\n",
    "x_1\\pm \\|x\\|_2 \\\\ x_2 \\\\ x_3 \\\\ \\vdots \\\\ x_m\n",
    "\\end{bmatrix}.\n",
    "$$ \n",
    "\n",
    "__Householder reflector__ $H$ is __symmatric__ and __orthogonal__ matrix (__prove it!__). Depending on the choice of sign in the definition of the vector $v$, we have\n",
    "\n",
    "$$\n",
    "r=\\begin{bmatrix} \\mp \\|x\\| \\\\ 0 \\\\ \\vdots \\\\ 0\n",
    "\\end{bmatrix}\n",
    "$$\n",
    "\n",
    "For the sake of numerical stability, the standard choice is\n",
    "\n",
    "$$\n",
    "v_1=x_1+\\mathop{\\mathrm{sign}} (x_1) \\|x\\|_2.\n",
    "$$\n",
    "\n",
    "Matrix $H$ is __not explicitly computed__, but the product $Hx$ is computed using formula\n",
    "\n",
    "$$\n",
    "Hx=x-\\frac{2(v^Tx)}{v^Tv}v=x-\\frac{2 (v\\cdot x)}{v\\cdot v}v,\n",
    "$$\n",
    "\n",
    "which requires $O(6m)$ operations."
   ]
  },
  {
   "cell_type": "code",
   "execution_count": 8,
   "metadata": {},
   "outputs": [
    {
     "data": {
      "text/plain": [
       "HouseholderVector (generic function with 1 method)"
      ]
     },
     "execution_count": 8,
     "metadata": {},
     "output_type": "execute_result"
    }
   ],
   "source": [
    "function HouseholderVector(x::Array)\n",
    "    # Computes v\n",
    "    v=copy(x)\n",
    "    v[1]=x[1]+sign(x[1])*norm(x)\n",
    "    v\n",
    "end"
   ]
  },
  {
   "cell_type": "code",
   "execution_count": 9,
   "metadata": {},
   "outputs": [
    {
     "data": {
      "text/plain": [
       "8-element Array{Float64,1}:\n",
       " -1.2568320365216425\n",
       "  0.0\n",
       "  0.0\n",
       "  0.0\n",
       "  0.0\n",
       "  0.0\n",
       "  0.0\n",
       "  0.0"
      ]
     },
     "execution_count": 9,
     "metadata": {},
     "output_type": "execute_result"
    }
   ],
   "source": [
    "x=rand(8)\n",
    "v=HouseholderVector(x)\n",
    "β=(2/(v⋅v))*(v⋅x)\n",
    "x-β*v"
   ]
  },
  {
   "cell_type": "code",
   "execution_count": 10,
   "metadata": {},
   "outputs": [
    {
     "data": {
      "text/plain": [
       "8-element Array{Float64,1}:\n",
       " 0.57061318926682\n",
       " 0.20399662276026764\n",
       " 0.37498027020240765\n",
       " 0.7597546535455133\n",
       " 0.19178019953776593\n",
       " 0.23454367560056988\n",
       " 0.09766980331672781\n",
       " 0.6270929965804597"
      ]
     },
     "execution_count": 10,
     "metadata": {},
     "output_type": "execute_result"
    }
   ],
   "source": [
    "x"
   ]
  },
  {
   "cell_type": "code",
   "execution_count": 11,
   "metadata": {},
   "outputs": [
    {
     "data": {
      "text/plain": [
       "1.2568320365216425"
      ]
     },
     "execution_count": 11,
     "metadata": {},
     "output_type": "execute_result"
    }
   ],
   "source": [
    "norm(x)"
   ]
  },
  {
   "cell_type": "markdown",
   "metadata": {},
   "source": [
    "QR factorization of a matrix is computed by recursively applying QR factorization of a vector to its columns:"
   ]
  },
  {
   "cell_type": "code",
   "execution_count": 30,
   "metadata": {},
   "outputs": [
    {
     "data": {
      "text/plain": [
       "HouseholderQR (generic function with 1 method)"
      ]
     },
     "execution_count": 30,
     "metadata": {},
     "output_type": "execute_result"
    }
   ],
   "source": [
    "function HouseholderQR(A₁::Array)\n",
    "    # Computes Q and R\n",
    "    A=copy(A₁)\n",
    "    m,n=size(A)\n",
    "    Q=Matrix{Float64}(I,m,m) # eye\n",
    "    for k=1:n\n",
    "        v=HouseholderVector(A[k:m,k])\n",
    "        β=(2/(v⋅v))*v\n",
    "        A[k:m,k:n]=A[k:m,k:n]-β*(v'*A[k:m,k:n])\n",
    "        Q[k:m,:]=Q[k:m,:]-β*(v'*Q[k:m,:])\n",
    "    end\n",
    "    R=triu(A)\n",
    "    Q',R\n",
    "end\n",
    "    "
   ]
  },
  {
   "cell_type": "code",
   "execution_count": 13,
   "metadata": {},
   "outputs": [
    {
     "data": {
      "text/plain": [
       "8×5 Array{Float64,2}:\n",
       " 0.768448   0.26864   0.275819  0.20923   0.356221\n",
       " 0.940515   0.108871  0.446568  0.918165  0.900925\n",
       " 0.673959   0.163666  0.582318  0.614255  0.529253\n",
       " 0.395453   0.473017  0.255981  0.802665  0.031831\n",
       " 0.313244   0.865412  0.70586   0.555668  0.900681\n",
       " 0.662555   0.617492  0.291978  0.940782  0.940299\n",
       " 0.586022   0.285698  0.281066  0.48      0.621379\n",
       " 0.0521332  0.463847  0.792931  0.790201  0.348173"
      ]
     },
     "execution_count": 13,
     "metadata": {},
     "output_type": "execute_result"
    }
   ],
   "source": [
    "A"
   ]
  },
  {
   "cell_type": "code",
   "execution_count": 14,
   "metadata": {},
   "outputs": [
    {
     "data": {
      "text/plain": [
       "([-0.4459793428925316 -0.1124725076034288 … -0.1846088570751743 0.4453989018303586; -0.5458410188985632 -0.3547975260794096 … -0.28453074300651393 0.16172625875188423; … ; -0.3401061260963262 -0.005962161430000654 … 0.9116119148373945 0.0807265826627886; -0.030256209503033656 0.4323572610263252 … 0.08087671084130417 0.4727799552410986], [-1.7230566559710465 -0.8577805301619605 … -1.6688916514356935 -1.6121226948829999; 0.0 1.0128059831682323 … 0.7605676133615736 0.6039879528877765; … ; 0.0 0.0 … 0.0 0.0; 0.0 0.0 … 0.0 0.0])"
      ]
     },
     "execution_count": 14,
     "metadata": {},
     "output_type": "execute_result"
    }
   ],
   "source": [
    "Q,R=HouseholderQR(A)"
   ]
  },
  {
   "cell_type": "code",
   "execution_count": 15,
   "metadata": {},
   "outputs": [
    {
     "data": {
      "text/plain": [
       "8×5 Array{Float64,2}:\n",
       " -1.72306      -0.857781     -1.01346      -1.66889      -1.61212\n",
       " -1.16367e-16   1.01281       0.700064      0.760568      0.603988\n",
       "  5.11766e-17   3.83323e-17  -0.67391      -0.349435     -0.179984\n",
       "  8.45621e-17   8.59941e-17   2.78295e-17  -0.686493      0.00271451\n",
       "  1.58233e-16   1.63517e-16   1.11777e-16   1.2178e-16   -0.652889\n",
       "  1.5773e-16    2.4082e-16    1.82188e-16   1.02916e-16   2.22045e-16\n",
       "  7.12178e-17   9.25087e-17   4.25446e-17   5.53655e-17   0.0\n",
       " -4.60282e-17  -5.58089e-17  -4.70489e-17  -2.54873e-16  -2.77556e-17"
      ]
     },
     "execution_count": 15,
     "metadata": {},
     "output_type": "execute_result"
    }
   ],
   "source": [
    "Q'*A"
   ]
  },
  {
   "cell_type": "code",
   "execution_count": 16,
   "metadata": {},
   "outputs": [
    {
     "data": {
      "text/plain": [
       "8×5 Array{Float64,2}:\n",
       " -1.72306  -0.857781  -1.01346   -1.66889   -1.61212\n",
       "  0.0       1.01281    0.700064   0.760568   0.603988\n",
       "  0.0       0.0       -0.67391   -0.349435  -0.179984\n",
       "  0.0       0.0        0.0       -0.686493   0.00271451\n",
       "  0.0       0.0        0.0        0.0       -0.652889\n",
       "  0.0       0.0        0.0        0.0        0.0\n",
       "  0.0       0.0        0.0        0.0        0.0\n",
       "  0.0       0.0        0.0        0.0        0.0"
      ]
     },
     "execution_count": 16,
     "metadata": {},
     "output_type": "execute_result"
    }
   ],
   "source": [
    "R"
   ]
  },
  {
   "cell_type": "markdown",
   "metadata": {},
   "source": [
    "The function `HouseholderQR()` is  illustrative. Professional programs have following properties:\n",
    "\n",
    "* computing with block matrices (usual size of a block is 32 or 64),\n",
    "* the Householder vector is scaled as $\\hat v=v/v_1$. Thus,  $\\hat v_1=1$, while the rest of the elements of $\\hat v$'s are stored in the strict lower triangle of $A$,\n",
    "* if the matrix $Q$ is required, the accumulation is done backwards using stored elements $\\hat v$ (this reduces operation count),\n",
    "* there is an option of returning economical factorization,\n",
    "* there is an option of using __pivoting__ - in each step, the columnn of the current submatrix with largest norm is brought to the pivoting position, so\n",
    "$$\n",
    "AP=QR.\n",
    "$$\n",
    "In this case,\n",
    "$$\n",
    "|R_{kk}|\\geq |R_{k+1,k+1}|,\n",
    "$$\n",
    "which can be used to determine __numerical rank__ of the matrix $A$."
   ]
  },
  {
   "cell_type": "code",
   "execution_count": 17,
   "metadata": {},
   "outputs": [],
   "source": [
    "# ?qr  # See the description"
   ]
  },
  {
   "cell_type": "code",
   "execution_count": 18,
   "metadata": {},
   "outputs": [
    {
     "data": {
      "text/plain": [
       "LinearAlgebra.QRCompactWY{Float64,Array{Float64,2}}\n",
       "Q factor:\n",
       "8×8 LinearAlgebra.QRCompactWYQ{Float64,Array{Float64,2}}:\n",
       " -0.445979   -0.112473     0.144567   …   0.160558  -0.184609    0.445399\n",
       " -0.545841   -0.354798    -0.210356      -0.494706  -0.284531    0.161726\n",
       " -0.391141   -0.169675    -0.45213        0.385539   0.0148903  -0.66339\n",
       " -0.229507    0.272659     0.24854       -0.295448   0.0184688  -0.209603\n",
       " -0.181796    0.700501    -0.0463297     -0.362887  -0.160778   -0.240692\n",
       " -0.384523    0.284018     0.440047   …   0.558011  -0.144818    0.0589447\n",
       " -0.340106   -0.00596216   0.0882082     -0.114703   0.911612    0.0807266\n",
       " -0.0302562   0.432357    -0.681975       0.193228   0.0808767   0.47278\n",
       "R factor:\n",
       "5×5 Array{Float64,2}:\n",
       " -1.72306  -0.857781  -1.01346   -1.66889   -1.61212\n",
       "  0.0       1.01281    0.700064   0.760568   0.603988\n",
       "  0.0       0.0       -0.67391   -0.349435  -0.179984\n",
       "  0.0       0.0        0.0       -0.686493   0.00271451\n",
       "  0.0       0.0        0.0        0.0       -0.652889"
      ]
     },
     "execution_count": 18,
     "metadata": {},
     "output_type": "execute_result"
    }
   ],
   "source": [
    "# Return the QR object\n",
    "F=qr(A)"
   ]
  },
  {
   "cell_type": "code",
   "execution_count": 19,
   "metadata": {},
   "outputs": [
    {
     "data": {
      "text/plain": [
       "8×5 Array{Float64,2}:\n",
       " -1.72306      -0.857781     -1.01346      -1.66889      -1.61212\n",
       "  0.0           1.01281       0.700064      0.760568      0.603988\n",
       " -2.22045e-16  -1.38778e-16  -0.67391      -0.349435     -0.179984\n",
       "  0.0           2.77556e-16  -2.22045e-16  -0.686493      0.00271451\n",
       " -1.11022e-16   0.0           4.44089e-16  -2.22045e-16  -0.652889\n",
       "  0.0           1.11022e-16   1.66533e-16   0.0           2.22045e-16\n",
       "  1.11022e-16  -5.55112e-17   5.55112e-17   0.0           1.11022e-16\n",
       " -1.66533e-16   1.11022e-16   0.0           0.0           0.0"
      ]
     },
     "execution_count": 19,
     "metadata": {},
     "output_type": "execute_result"
    }
   ],
   "source": [
    "F.Q'*A"
   ]
  },
  {
   "cell_type": "code",
   "execution_count": 20,
   "metadata": {},
   "outputs": [
    {
     "data": {
      "text/plain": [
       "8×5 Array{Float64,2}:\n",
       " 0.768448   0.26864   0.275819  0.20923   0.356221\n",
       " 0.940515   0.108871  0.446568  0.918165  0.900925\n",
       " 0.673959   0.163666  0.582318  0.614255  0.529253\n",
       " 0.395453   0.473017  0.255981  0.802665  0.031831\n",
       " 0.313244   0.865412  0.70586   0.555668  0.900681\n",
       " 0.662555   0.617492  0.291978  0.940782  0.940299\n",
       " 0.586022   0.285698  0.281066  0.48      0.621379\n",
       " 0.0521332  0.463847  0.792931  0.790201  0.348173"
      ]
     },
     "execution_count": 20,
     "metadata": {},
     "output_type": "execute_result"
    }
   ],
   "source": [
    "F.Q*F.R"
   ]
  },
  {
   "cell_type": "code",
   "execution_count": 21,
   "metadata": {},
   "outputs": [
    {
     "data": {
      "text/plain": [
       "QRPivoted{Float64,Array{Float64,2}}\n",
       "Q factor:\n",
       "8×8 LinearAlgebra.QRPackedQ{Float64,Array{Float64,2}}:\n",
       " -0.105181  -0.657376   -0.16259    …  -0.418105   -0.280647   -0.0682982\n",
       " -0.461568  -0.291448    0.0230722     -0.0183557  -0.262798    0.531458\n",
       " -0.30879   -0.242706   -0.109412       0.57546     0.1056     -0.496631\n",
       " -0.403505   0.200334   -0.681506       0.246128    0.0857566   0.252251\n",
       " -0.279338   0.0965824   0.643895       0.323668   -0.0771281   0.323665\n",
       " -0.472938   0.0225186   0.243739   …  -0.117048   -0.204861   -0.529297\n",
       " -0.241299  -0.252973    0.145506      -0.246011    0.885934    0.0728644\n",
       " -0.397239   0.556817   -0.0378098     -0.504117   -0.0295477  -0.111318\n",
       "R factor:\n",
       "5×5 Array{Float64,2}:\n",
       " -1.98923  -1.44558   -1.61412   -1.10689   -1.2363\n",
       "  0.0      -0.937667  -0.473979   0.130204   0.0436452\n",
       "  0.0       0.0        0.76965    0.350337   0.263875\n",
       "  0.0       0.0        0.0       -0.629825  -0.177484\n",
       "  0.0       0.0        0.0        0.0       -0.582983\n",
       "permutation:\n",
       "5-element Array{Int64,1}:\n",
       " 4\n",
       " 1\n",
       " 5\n",
       " 2\n",
       " 3"
      ]
     },
     "execution_count": 21,
     "metadata": {},
     "output_type": "execute_result"
    }
   ],
   "source": [
    "F=qr(A,Val(true))"
   ]
  },
  {
   "cell_type": "code",
   "execution_count": 22,
   "metadata": {},
   "outputs": [
    {
     "data": {
      "text/plain": [
       "5-element Array{Int64,1}:\n",
       " 4\n",
       " 1\n",
       " 5\n",
       " 2\n",
       " 3"
      ]
     },
     "execution_count": 22,
     "metadata": {},
     "output_type": "execute_result"
    }
   ],
   "source": [
    "# Pivoting vector\n",
    "F.p"
   ]
  },
  {
   "cell_type": "code",
   "execution_count": 23,
   "metadata": {},
   "outputs": [
    {
     "data": {
      "text/plain": [
       "5×5 Array{Float64,2}:\n",
       " 0.0  1.0  0.0  0.0  0.0\n",
       " 0.0  0.0  0.0  1.0  0.0\n",
       " 0.0  0.0  0.0  0.0  1.0\n",
       " 1.0  0.0  0.0  0.0  0.0\n",
       " 0.0  0.0  1.0  0.0  0.0"
      ]
     },
     "execution_count": 23,
     "metadata": {},
     "output_type": "execute_result"
    }
   ],
   "source": [
    "# Permutation matrix\n",
    "F.P"
   ]
  },
  {
   "cell_type": "code",
   "execution_count": 24,
   "metadata": {},
   "outputs": [
    {
     "data": {
      "text/plain": [
       "8×5 Array{Float64,2}:\n",
       " 0.0          8.88178e-16  4.44089e-16  4.44089e-16  4.44089e-16\n",
       " 0.0          4.44089e-16  2.22045e-16  1.11022e-16  1.11022e-16\n",
       " 0.0          3.33067e-16  2.22045e-16  1.66533e-16  1.11022e-16\n",
       " 0.0          2.77556e-16  2.22045e-16  2.77556e-16  5.55112e-17\n",
       " 0.0          3.33067e-16  1.11022e-16  1.11022e-16  0.0\n",
       " 1.11022e-16  3.33067e-16  2.22045e-16  1.11022e-16  2.22045e-16\n",
       " 5.55112e-17  2.22045e-16  1.11022e-16  1.11022e-16  1.11022e-16\n",
       " 1.11022e-16  2.22045e-16  1.11022e-16  1.66533e-16  2.22045e-16"
      ]
     },
     "execution_count": 24,
     "metadata": {},
     "output_type": "execute_result"
    }
   ],
   "source": [
    "# Residual using permutation matrix\n",
    "F.Q*F.R-A*F.P"
   ]
  },
  {
   "cell_type": "code",
   "execution_count": 25,
   "metadata": {},
   "outputs": [
    {
     "data": {
      "text/plain": [
       "8×5 Array{Float64,2}:\n",
       " 0.0          8.88178e-16  4.44089e-16  4.44089e-16  4.44089e-16\n",
       " 0.0          4.44089e-16  2.22045e-16  1.11022e-16  1.11022e-16\n",
       " 0.0          3.33067e-16  2.22045e-16  1.66533e-16  1.11022e-16\n",
       " 0.0          2.77556e-16  2.22045e-16  2.77556e-16  5.55112e-17\n",
       " 0.0          3.33067e-16  1.11022e-16  1.11022e-16  0.0\n",
       " 1.11022e-16  3.33067e-16  2.22045e-16  1.11022e-16  2.22045e-16\n",
       " 5.55112e-17  2.22045e-16  1.11022e-16  1.11022e-16  1.11022e-16\n",
       " 1.11022e-16  2.22045e-16  1.11022e-16  1.66533e-16  2.22045e-16"
      ]
     },
     "execution_count": 25,
     "metadata": {},
     "output_type": "execute_result"
    }
   ],
   "source": [
    "# Residual using pivot vektor\n",
    "F.Q*F.R-A[:,F.p]"
   ]
  },
  {
   "cell_type": "markdown",
   "metadata": {
    "collapsed": true
   },
   "source": [
    "## Speed\n",
    "\n",
    "The number of floating point operations needed to compute the QR factorization of a $n\\times n$ matrix is $O\\big(\\frac{4}{3}n^3\\big)$ to compute $R$ and $O\\big(\\frac{4}{3}n^3\\big)$ to compute $Q$. \n"
   ]
  },
  {
   "cell_type": "code",
   "execution_count": 26,
   "metadata": {},
   "outputs": [],
   "source": [
    "n=512\n",
    "A=rand(n,n);"
   ]
  },
  {
   "cell_type": "code",
   "execution_count": 27,
   "metadata": {},
   "outputs": [
    {
     "name": "stdout",
     "output_type": "stream",
     "text": [
      "  0.014455 seconds (7 allocations: 2.282 MiB)\n"
     ]
    }
   ],
   "source": [
    "@time qr(A);"
   ]
  },
  {
   "cell_type": "code",
   "execution_count": 28,
   "metadata": {},
   "outputs": [
    {
     "name": "stdout",
     "output_type": "stream",
     "text": [
      "  0.056790 seconds (7 allocations: 2.141 MiB)\n"
     ]
    }
   ],
   "source": [
    "@time qr(A,Val(true));"
   ]
  },
  {
   "cell_type": "code",
   "execution_count": 29,
   "metadata": {},
   "outputs": [
    {
     "name": "stdout",
     "output_type": "stream",
     "text": [
      "  2.080790 seconds (10.56 k allocations: 3.354 GiB, 14.89% gc time)\n"
     ]
    }
   ],
   "source": [
    "@time HouseholderQR(A);"
   ]
  },
  {
   "cell_type": "markdown",
   "metadata": {},
   "source": [
    "## Accuracy\n",
    "\n",
    "Matrices $\\hat Q$ and $\\hat R$ computed with the Householder method satisfy \n",
    "\n",
    "\\begin{align*}\n",
    "\\hat Q^T\\hat Q& =I+E, \\qquad \\|E \\|_2\\approx \\varepsilon,\\\\ \n",
    "\\| A-\\hat Q\\hat R\\|_2& \\approx \\varepsilon\\|A\\|_2.\n",
    "\\end{align*}\n",
    "\n",
    "Also, there exists an orthogonal matrix $Q$ for which\n",
    "\n",
    "$$\\| A- Q\\hat R\\|_2\\approx \\varepsilon\\|A\\|_2.\n",
    "$$"
   ]
  },
  {
   "cell_type": "code",
   "execution_count": null,
   "metadata": {},
   "outputs": [],
   "source": []
  }
 ],
 "metadata": {
  "@webio": {
   "lastCommId": null,
   "lastKernelId": null
  },
  "anaconda-cloud": {},
  "kernelspec": {
   "display_name": "Julia 1.5.2",
   "language": "julia",
   "name": "julia-1.5"
  },
  "language_info": {
   "file_extension": ".jl",
   "mimetype": "application/julia",
   "name": "julia",
   "version": "1.5.2"
  }
 },
 "nbformat": 4,
 "nbformat_minor": 1
}
