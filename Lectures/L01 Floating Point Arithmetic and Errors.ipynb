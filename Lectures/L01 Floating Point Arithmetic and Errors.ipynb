{
 "cells": [
  {
   "cell_type": "markdown",
   "metadata": {},
   "source": [
    "# Floating Point Arithmetic and Errors\n",
    "\n",
    "## Absolute and relative error\n",
    "\n",
    "Let $\\alpha$ approximate $a$. Then\n",
    "\n",
    "$$err=|a-\\alpha| \\\\  relerr=\\frac{err}{|a|}=\\frac{|a-\\alpha|}{|a|}.$$"
   ]
  },
  {
   "cell_type": "code",
   "execution_count": 1,
   "metadata": {},
   "outputs": [
    {
     "data": {
      "text/plain": [
       "(5.0001, 9.999999999976694e-5, 1.9999999999953388e-5)"
      ]
     },
     "execution_count": 1,
     "metadata": {},
     "output_type": "execute_result"
    }
   ],
   "source": [
    "# Try α=a:0.01:2a\n",
    "a=5.0\n",
    "α=5.0001\n",
    "err=abs(a-α)\n",
    "relerr=err/abs(a)\n",
    "α, err, relerr"
   ]
  },
  {
   "cell_type": "markdown",
   "metadata": {},
   "source": [
    "## Floating Point Arithmetic\n",
    "\n",
    "Useful book on IEEE Floating Point standard:\n",
    "\n",
    "M. Overton, Numerical Computing with IEEE Floating Point Arithmetic, SIAM Publications, Philadephia, 2001.\n",
    "\n",
    "Useful article: \n",
    "\n",
    "[David Goldberg, What Every Computer Scientist Should Know About Floating-Point Arithmetic](https://docs.oracle.com/cd/E19957-01/806-3568/ncg_goldberg.html).\n",
    "\n",
    "### Floating Point Number System\n",
    "\n",
    "$x$ is a floating point number if it has the form\n",
    "\n",
    "$$\n",
    "\tx = \\pm d \\cdot \\beta^e \\quad \\beta \\in \\{ 2,10 \\}\n",
    "$$\n",
    "\n",
    "Base 2 is for general purpose computers, base 10 is for pocket calculators.\n",
    "\n",
    "$e$ is the exponent and satisfies\n",
    "\n",
    "$$\n",
    "\te_{\\min} \\leq e \\leq e_{\\max},\\quad\n",
    "\te_{\\min} < 0 < e_{\\max}\n",
    "$$\n",
    "\n",
    "We will assume that arithmetic is in base 2, but will usually give examples in base 10.\n",
    "\n",
    "Mantissa $d$ has the form\n",
    "\n",
    "\\begin{align*}\n",
    "\td &= 0.d_1 \\dots d_t = d_1 \\beta^{-1} + d_2 \\beta^{-2}\n",
    "\t+ \\dots + d_t \\beta^{-t}\\\\\n",
    "d  &\\in \\{ 0,1\\}\\\\\n",
    "\td_1 &= 1 \\qquad \\mbox{ normalized }   \\\\\n",
    "\td_1 &= 0 \\qquad \\mbox{ unnormalized }   \\\\\n",
    "\\end{align*}\n",
    "\n",
    "Standard form for floating point numbers is normalized except at the\n",
    "bottom of the exponent range.\n",
    "\n",
    "During input and output numbers are converted from binary to decimal\n",
    "and back.\n",
    "\n",
    "Computer arithmetic is standardized, by the IEEE 754 standard\n",
    "for binary arithmetic.  All but a few modern computers follow this standard."
   ]
  },
  {
   "cell_type": "markdown",
   "metadata": {},
   "source": [
    "### Machine unit and machine precision\n",
    "\n",
    "The set\n",
    "\n",
    "$$\n",
    "\\{ x \\colon \\lfloor \\log_2 \\: |x| \\rfloor \\in [e_{min},e_{max}] \\}\n",
    "$$\n",
    "\n",
    "is the set of real numbers that are in the normalized range of floating point numbers.\n",
    "$fl(x)$ is the floating point round of $x$.\n",
    "\n",
    "_Machine unit_ is the maximum relative distance\n",
    "between a real number in the floating point range and the nearest floating point number,\n",
    "\n",
    "$$\n",
    "\t\\epsilon = \\max_{\\lfloor \\log_2 \n",
    "    \\:|x|\\rfloor \\in\n",
    "\t[e_{\\min},e_{\\max}]} \\frac{|x - fl(x)|}{|x|}  = 2^{-t}\n",
    "$$\n",
    "\n",
    "_Machine precision_ is the relative distance between two neighbouring floating point numbers.\n",
    "For $\\beta=2$ obviously $\\epsilon=2\\epsilon_M$.\n",
    "\n",
    "Important examples include\n",
    "\n",
    "_IEEE Standard Single Precision (Float32)_  $\\beta = 2$, $t = 24$\n",
    "\n",
    "\\begin{align*}\n",
    "\t\\epsilon_M  &= 2^{-24} \\approx\t5.9605 \\times 10^{-8}\\\\\n",
    "    \\epsilon &=2^{-23} \\approx 1.1920 \\times 10^{-7} \\\\\n",
    "\te_{\\min} &= - 126,\\quad e_{\\max} = 127.\n",
    "\\end{align*}\n",
    "\n",
    "\n",
    "_IEEE Standard Double Precision (Float 64)_ $\\beta =2$,$t = 53$\n",
    "\n",
    "\\begin{align*}\n",
    "\t\\epsilon &= 2^{-53} \\approx 1.1102 \\times 10^{-16}\\\\\n",
    "    \\epsilon &=2^{-52} \\approx 2.2204 \\times 10^{-16}\\\\\n",
    "    e_{\\min} &= -1022,\\quad e_{\\max} = 1023.\n",
    "\\end{align*}\n",
    "\n",
    "Let us compute $\\epsilon$ as the smallest positive floating point number such that\n",
    "$1+\\epsilon\\neq 1$."
   ]
  },
  {
   "cell_type": "code",
   "execution_count": 2,
   "metadata": {},
   "outputs": [
    {
     "name": "stdout",
     "output_type": "stream",
     "text": [
      "1.0\n",
      "0.5\n",
      "0.25\n",
      "0.125\n",
      "0.0625\n",
      "0.03125\n",
      "0.015625\n",
      "0.0078125\n",
      "0.00390625\n",
      "0.001953125\n",
      "0.0009765625\n",
      "0.00048828125\n",
      "0.000244140625\n",
      "0.0001220703125\n",
      "6.103515625e-5\n",
      "3.0517578125e-5\n",
      "1.52587890625e-5\n",
      "7.62939453125e-6\n",
      "3.814697265625e-6\n",
      "1.9073486328125e-6\n",
      "9.5367431640625e-7\n",
      "4.76837158203125e-7\n",
      "2.384185791015625e-7\n",
      "1.1920928955078125e-7\n",
      "5.960464477539063e-8\n",
      "2.9802322387695312e-8\n",
      "1.4901161193847656e-8\n",
      "7.450580596923828e-9\n",
      "3.725290298461914e-9\n",
      "1.862645149230957e-9\n",
      "9.313225746154785e-10\n",
      "4.656612873077393e-10\n",
      "2.3283064365386963e-10\n",
      "1.1641532182693481e-10\n",
      "5.820766091346741e-11\n",
      "2.9103830456733704e-11\n",
      "1.4551915228366852e-11\n",
      "7.275957614183426e-12\n",
      "3.637978807091713e-12\n",
      "1.8189894035458565e-12\n",
      "9.094947017729282e-13\n",
      "4.547473508864641e-13\n",
      "2.2737367544323206e-13\n",
      "1.1368683772161603e-13\n",
      "5.684341886080802e-14\n",
      "2.842170943040401e-14\n",
      "1.4210854715202004e-14\n",
      "7.105427357601002e-15\n",
      "3.552713678800501e-15\n",
      "1.7763568394002505e-15\n",
      "8.881784197001252e-16\n",
      "4.440892098500626e-16\n",
      "2.220446049250313e-16\n",
      "1.1102230246251565e-16\n"
     ]
    }
   ],
   "source": [
    "b=1.0\n",
    "a=2.0\n",
    "while (b+a)!=b\n",
    "    a=a/2\n",
    "    println(a)\n",
    "end"
   ]
  },
  {
   "cell_type": "markdown",
   "metadata": {},
   "source": [
    "The MATLAB command `eps` and the Julia function `eps()` return command give $\\epsilon = 2.2204 \\times 10^{-16}$."
   ]
  },
  {
   "cell_type": "code",
   "execution_count": 3,
   "metadata": {},
   "outputs": [
    {
     "data": {
      "text/plain": [
       "2.220446049250313e-16"
      ]
     },
     "execution_count": 3,
     "metadata": {},
     "output_type": "execute_result"
    }
   ],
   "source": [
    "eps()"
   ]
  },
  {
   "cell_type": "code",
   "execution_count": 4,
   "metadata": {},
   "outputs": [
    {
     "data": {
      "text/plain": [
       "1.4210854715202004e-14"
      ]
     },
     "execution_count": 4,
     "metadata": {},
     "output_type": "execute_result"
    }
   ],
   "source": [
    "# What is this?\n",
    "eps(64.0)"
   ]
  },
  {
   "cell_type": "markdown",
   "metadata": {},
   "source": [
    "Julia, in particular, has a type system where `Float64` type is a sub-type of `AbstractFloat`, which has four sub-types. \n",
    "In addition to types `Float64` and `Float32`, there is a type `Float16` which uses only two bytes of computer memory and type `BigFloat` which has a 256-bit mantissa.  "
   ]
  },
  {
   "cell_type": "code",
   "execution_count": 5,
   "metadata": {},
   "outputs": [
    {
     "data": {
      "text/plain": [
       "AbstractFloat"
      ]
     },
     "execution_count": 5,
     "metadata": {},
     "output_type": "execute_result"
    }
   ],
   "source": [
    "supertype(Float64)"
   ]
  },
  {
   "cell_type": "code",
   "execution_count": 6,
   "metadata": {},
   "outputs": [
    {
     "data": {
      "text/plain": [
       "4-element Array{Any,1}:\n",
       " BigFloat\n",
       " Float16\n",
       " Float32\n",
       " Float64"
      ]
     },
     "execution_count": 6,
     "metadata": {},
     "output_type": "execute_result"
    }
   ],
   "source": [
    "subtypes(AbstractFloat)"
   ]
  },
  {
   "cell_type": "code",
   "execution_count": 7,
   "metadata": {},
   "outputs": [
    {
     "name": "stdout",
     "output_type": "stream",
     "text": [
      "0.000977\n",
      "1.1920929e-7\n",
      "2.220446049250313e-16\n",
      "1.727233711018888925077270372560079914223200072887256277004740694033718360632485e-77\n"
     ]
    }
   ],
   "source": [
    "for T in (Float16, Float32, Float64, BigFloat)\n",
    "    println(eps(T))\n",
    "end"
   ]
  },
  {
   "cell_type": "code",
   "execution_count": 8,
   "metadata": {},
   "outputs": [
    {
     "data": {
      "text/plain": [
       "(0.0009765625, 1.1920928955078125e-7, 2.220446049250313e-16, 1.727233711018889e-77)"
      ]
     },
     "execution_count": 8,
     "metadata": {},
     "output_type": "execute_result"
    }
   ],
   "source": [
    "2^(-10), 2^(-23), 2^(-52), 2^(-255)"
   ]
  },
  {
   "cell_type": "markdown",
   "metadata": {},
   "source": [
    "### Basic Floating Point Operations\n",
    "\n",
    "We begin with the four basic arithmetic operations, addition ($+$),subtraction ($-$),multiplication ($*$),\n",
    "and division ($/$). Suppose that $\\odot$ is an operation such that\n",
    "\n",
    "$$\n",
    "\\odot \\in \\{ + , - , *,/\\}.\n",
    "$$\n",
    "\n",
    "Then, in floating point arithmetic with machine unit $\\epsilon_M$, it is reasonable to expect that\n",
    "for any two floating point numbers $x$ and $y$, we have\n",
    "\n",
    "$$\n",
    "\tfl(x\\;op\\;y) = (x \\; op\\; y)\\;(1 + \\xi),\\quad\n",
    "\t|\\xi| \\leq \\epsilon_M.\n",
    "$$\n",
    "\n",
    "For division, we assume $y \\neq 0$.\n",
    "Any IEEE standard computer must follow this rule.  Rounding is one of two limitations that floating point\n",
    "arithmetic has that real arithmetic does not have. You can quickly conclude from the above rule that as long as all that we do is add numbers of the same sign, multiply, and divide, floating point results will almost always come very close to the corresponding real arithmetic results. The difficulty occurs if we either of $x$ or $y$ is rounded, they have different signs and we add or have the same signs and we subtract. \n",
    "\n",
    "That is, suppose we have\n",
    "\n",
    "$$\n",
    "\\tilde{x}= x(1+\\delta_x), \\quad \\tilde{y} = y(1+\\delta_y),\n",
    "$$\n",
    "\n",
    "where $x$ and $y$ are the exact real results of some computation and $\\tilde{x}$ and $\\tilde{y}$ are rounded floating point results with $|\\delta_x| |\\delta_y| \\leq \\delta$ for some small delta.  Suppose also that $x$ and $y$ have the same sign. Let\n",
    "\n",
    "$$\n",
    "z=x-y,\\quad  \\tilde{z} = fl(\\tilde{x} -\\tilde{y}).\n",
    "$$\n",
    "\n",
    "Then, \n",
    "\n",
    "\\begin{align*}\n",
    "\\tilde{z} &=(\\tilde{x}-\\tilde{y})(1+\\xi)= x(1+\\delta_x)(1+\\xi) -y(1+\\delta_y)(1+\\xi) \n",
    "=x-y + \\delta_z,\n",
    "\\end{align*}\n",
    "\n",
    "where $|\\xi| \\leq \\epsilon$ and\n",
    "\n",
    "$$\n",
    "\\delta_z = (x-y)\\xi + (x\\delta_x -y\\delta_y)(1+\\xi).\n",
    "$$\n",
    "\n",
    "The best available bound on $|\\delta_z|$ is\n",
    "\n",
    "\\begin{align*}\n",
    "|\\delta_z| &\\leq |x-y||\\xi| + (|x||\\delta_x| + |y||\\delta_y|)(1+|\\xi|) \\\\\n",
    "& \\leq |x-y| \\epsilon_M + (|x|+|y|)\\,\\delta\\,(1+\\epsilon_M).\n",
    "\\end{align*}\n",
    "\n",
    "Thus, the relative error in $z$ is \n",
    "\n",
    "\\begin{align*}\n",
    "\\frac{|\\tilde{z}-z|}{|z|}&=\\frac{|\\delta_z|}{|z|} \n",
    "\\leq \\epsilon_M + (1+\\epsilon_M)\\,\\delta\\,\\frac{|x|+|y|}{|x-y|}\\approx \\delta \\,\\frac{|x|+|y|}{|x-y|}.\n",
    "\\end{align*}\n",
    "\n",
    "If $|x-y| << |x|+|y|$, the effect of the round in the subtraction is not important, but the error from\n",
    "previous computations on $x$ and $y$ can have a huge effect. The effect is called __propagation__. It can dramatically change the result of a compuation! We will see this issue with some examples later in this lecture.\n",
    "\n",
    "Rounding is the first important limitation of floating point arithmetic.  A second limitation is the number range."
   ]
  },
  {
   "cell_type": "markdown",
   "metadata": {},
   "source": [
    "### Number Ranges\n",
    "\n",
    "Floating point arithmetic has a largest and smallest computer number. First, the largest one.\n",
    "\n",
    "__Largest Computer Number__ $\\Omega$\n",
    "\n",
    "In base $2$, with a $t$ bit mantissa, the largest computer number is\n",
    "\n",
    "$$\n",
    "\t\\Omega = (1 - 2^{-t}) \\cdot 2^{e_{\\max+1}}\n",
    "$$\n",
    "\n",
    "When numbers exceed $\\Omega$, they are stored as `Inf` ($\\infty$) or\n",
    "`-Inf` ($-\\infty$). We say than an _owerflow_ occured.\n",
    "\n",
    "\n",
    "_IEEE Standard Single Precision_ (`Float32`)\n",
    "\n",
    "$$\n",
    "\\quad \\Omega = 3.4028\\times 10^{38}\n",
    "$$\n",
    "\n",
    "_IEEE Standard Double Precisiont_ (`Float64`)\n",
    "\n",
    "$$\n",
    "\\Omega = 1.79777 \\times 10^{308}\n",
    "$$\n",
    "\n",
    "The MATLAB command `realmax` and the Julia function `floatmax()` show this number."
   ]
  },
  {
   "cell_type": "markdown",
   "metadata": {},
   "source": [
    "__Smallest Computer Number__ $\\omega$\n",
    "\n",
    "The definition of the smallest computer number is somewhat more complex.\n",
    "\n",
    "The smallest computer number is given by\n",
    "\n",
    "$$\n",
    "\\omega = 2^{1-t} 2^{e_{\\min}}.\n",
    "$$\n",
    "\n",
    "If a computation produces a number smaller in magnitude than $\\omega$, it produces what is called an \n",
    "_underflow_, it is set to $0$ or\n",
    "$-0$.  If the programmer chooses, an underflow can result in an error, but in most computations, underflows are not harmful.\n",
    "\n",
    "\n",
    "_IEEE Standard Single Precision_ (`Float32`):\n",
    "\n",
    "$$\n",
    "\\omega = 2^{-23- 126} = 2^{-149} \\approx  1.4013 \\times 10^{-45}.\n",
    "$$\n",
    "\n",
    "In MATLAB, this comes from the command `omega= eps('single')*realmin('single')`.\n",
    "\n",
    "\n",
    "_IEEE Standard Double Precision_ (`Float64`):\n",
    "\n",
    "$$\n",
    "\\omega= 2^{-1022-52} = 2^{-1074} \\approx  4.9407 \\times 10^{-324}\n",
    "$$\n",
    "\n",
    "The appropriate MATLAB command to get this value is \n",
    "`omega = eps*realmin` and the equivalent Julia command is `floatmin()*eps()`.\n",
    "\n",
    "\n",
    "_Important and Subtle Point_ \n",
    "\n",
    "Numbers at the bottom of the exponent\n",
    "range are not normalized.\n",
    "\n",
    "MATLAB function `realmin` yields\n",
    "\n",
    "$$\n",
    "\\omega_{useful} \\approx 2.2251 \\times 10^{-308}.\n",
    "$$\n",
    "\n",
    "Some people call this the smallest USEFUL floating point\n",
    " number since\n",
    "\n",
    "$$\n",
    "1/\\omega_{useful} \\leq \\Omega\n",
    "$$\n",
    "\n",
    "and $\\omega_{useful}$ is normalized.\n",
    "\n",
    "Smallest floating point number, $\\omega$, has the form\n",
    "\n",
    "$$\n",
    "0.0 \\cdots 01 \\times 2^{e_{\\min}} \\quad \\cdots\\quad\n",
    "\\mbox{Gradual Underflow}\n",
    "$$\n",
    "\n",
    "Before the IEEE standard most computers had the smallest\n",
    "floating point number as\n",
    "\n",
    "$$\n",
    "\t0.10 \\cdots 0 \\times 2^{e_{\\min}} \\qquad \\cdots\n",
    "\t\\mbox{ normalized}\n",
    "$$\n",
    "\n",
    "Earlier computers, (pre-1985) set numbers below this smallest 'useful' floating point number to zero.\n",
    "This change was one of the more controversial features of the IEEE standard.\n",
    "\n",
    "__Example.__ $\\beta = 10$, $-5 \\leq e \\leq 5$\n",
    "\n",
    "\\begin{eqnarray*}\n",
    "\tx & = 0.1957 \\times 10^{-5}   \\\\\n",
    "\ty & = 0.1942 \\times 10^{-5}\n",
    "\\end{eqnarray*}\n",
    "\n",
    "Compute  $fl(x - y)$. Whar happens?\n",
    "\n",
    "$$\n",
    "0.1957 \\times 10^{-5}-0.1942 \\times 10^{-5}  =0.0015 \\times 10^{-5}\n",
    "$$\n",
    "\n",
    "Pre-1985 philosophy was to set $fl(x - y)=0$.\n",
    "\n",
    "Gradual Underflow stores $fl(x - y)=0.0015 \\times 10^{-5}$, that is, Gradual Underflow guarantees that for any two floating point numbers $x$ and $y$\n",
    "\n",
    "$$\n",
    "fl(x - y) = 0 \\mbox{ if and only if } x = y.\n",
    "$$"
   ]
  },
  {
   "cell_type": "code",
   "execution_count": 9,
   "metadata": {},
   "outputs": [
    {
     "name": "stdout",
     "output_type": "stream",
     "text": [
      "(Float16(6.104e-5), Float16(6.55e4))\n",
      "(1.1754944f-38, 3.4028235f38)\n",
      "(2.2250738585072014e-308, 1.7976931348623157e308)\n",
      "(2.382564904887951073216169781732674520415196125559239787955023752600945386104324e-323228497, 2.09857871646738769240435811688383907063809796547335262778664622571024044777575e+323228496)\n"
     ]
    }
   ],
   "source": [
    "for T in (Float16, Float32, Float64, BigFloat)\n",
    "    println((floatmin(T),floatmax(T)))\n",
    "end"
   ]
  },
  {
   "cell_type": "code",
   "execution_count": 10,
   "metadata": {},
   "outputs": [
    {
     "data": {
      "text/plain": [
       "(8.507059f37, 3.4028235f38)"
      ]
     },
     "execution_count": 10,
     "metadata": {},
     "output_type": "execute_result"
    }
   ],
   "source": [
    "1/floatmin(Float32),floatmax(Float32)"
   ]
  },
  {
   "cell_type": "code",
   "execution_count": 11,
   "metadata": {},
   "outputs": [
    {
     "name": "stdout",
     "output_type": "stream",
     "text": [
      "6.0e-8\n",
      "1.0e-45\n",
      "5.0e-324\n"
     ]
    }
   ],
   "source": [
    "for T in (Float16, Float32, Float64)\n",
    "    println((floatmin(T)*eps(T)))\n",
    "end"
   ]
  },
  {
   "cell_type": "markdown",
   "metadata": {},
   "source": [
    "###  Special Quantities  $0$, $-0$, `Inf`,`-Inf` i `NaN`\n",
    "\n",
    "Zero has a sign:"
   ]
  },
  {
   "cell_type": "code",
   "execution_count": 12,
   "metadata": {},
   "outputs": [
    {
     "data": {
      "text/plain": [
       "(-0.0, true)"
      ]
     },
     "execution_count": 12,
     "metadata": {},
     "output_type": "execute_result"
    }
   ],
   "source": [
    "a=1.0\n",
    "b=0.0\n",
    "c=-b\n",
    "c,b==c"
   ]
  },
  {
   "cell_type": "code",
   "execution_count": 13,
   "metadata": {},
   "outputs": [
    {
     "data": {
      "text/plain": [
       "Inf"
      ]
     },
     "execution_count": 13,
     "metadata": {},
     "output_type": "execute_result"
    }
   ],
   "source": [
    "a/b"
   ]
  },
  {
   "cell_type": "code",
   "execution_count": 14,
   "metadata": {},
   "outputs": [
    {
     "data": {
      "text/plain": [
       "(false, true)"
      ]
     },
     "execution_count": 14,
     "metadata": {},
     "output_type": "execute_result"
    }
   ],
   "source": [
    "d=a/b\n",
    "e=a/c\n",
    "d==e, 1/d==1/e"
   ]
  },
  {
   "cell_type": "code",
   "execution_count": 15,
   "metadata": {},
   "outputs": [
    {
     "data": {
      "text/plain": [
       "NaN"
      ]
     },
     "execution_count": 15,
     "metadata": {},
     "output_type": "execute_result"
    }
   ],
   "source": [
    "b/c"
   ]
  },
  {
   "cell_type": "markdown",
   "metadata": {},
   "source": [
    "`NaN` (Not a Number) can be generated by (c.f. Calculus 1):"
   ]
  },
  {
   "cell_type": "code",
   "execution_count": 16,
   "metadata": {},
   "outputs": [
    {
     "data": {
      "text/plain": [
       "(NaN, NaN, NaN, NaN)"
      ]
     },
     "execution_count": 16,
     "metadata": {},
     "output_type": "execute_result"
    }
   ],
   "source": [
    "Inf+(-Inf),0*Inf, Inf/Inf, 0.0/0.0"
   ]
  },
  {
   "cell_type": "markdown",
   "metadata": {},
   "source": [
    "IEEE Arithmetic is a closed system:\n",
    "\n",
    "$\\big\\{$ floating point numbers,`Inf`,`-Inf`, `NaN`$\\big\\}$ \n",
    "$\\stackrel{\\odot}{\\rightarrow}$ \n",
    "$\\big\\{$ floating point numbers,`Inf`,`-Inf`, `NaN` $\\big\\}$\n",
    "\n",
    "no matter what the operation $\\odot$ is.\n",
    "\n",
    "Clever programmers take advantage of these features. However, in the coding assignments in this course, if you get\n",
    "`NaN` or `Inf` or `-Inf`, you have probably made an error."
   ]
  },
  {
   "cell_type": "markdown",
   "metadata": {},
   "source": [
    "### Binary Representation"
   ]
  },
  {
   "cell_type": "code",
   "execution_count": 17,
   "metadata": {},
   "outputs": [
    {
     "data": {
      "text/plain": [
       "\"0000000000000000000000000000000000000000000000000000000000000000\""
      ]
     },
     "execution_count": 17,
     "metadata": {},
     "output_type": "execute_result"
    }
   ],
   "source": [
    "bitstring(0)"
   ]
  },
  {
   "cell_type": "code",
   "execution_count": 18,
   "metadata": {},
   "outputs": [
    {
     "data": {
      "text/plain": [
       "\"0000000000000000000000000000000000000000000000000000000000000001\""
      ]
     },
     "execution_count": 18,
     "metadata": {},
     "output_type": "execute_result"
    }
   ],
   "source": [
    "bitstring(1)"
   ]
  },
  {
   "cell_type": "code",
   "execution_count": 19,
   "metadata": {},
   "outputs": [
    {
     "data": {
      "text/plain": [
       "\"0000000000000000000000000000000000000000000000000000000000000000\""
      ]
     },
     "execution_count": 19,
     "metadata": {},
     "output_type": "execute_result"
    }
   ],
   "source": [
    "bitstring(0.0)"
   ]
  },
  {
   "cell_type": "code",
   "execution_count": 20,
   "metadata": {},
   "outputs": [
    {
     "data": {
      "text/plain": [
       "\"1000000000000000000000000000000000000000000000000000000000000000\""
      ]
     },
     "execution_count": 20,
     "metadata": {},
     "output_type": "execute_result"
    }
   ],
   "source": [
    "bitstring(-0.0)"
   ]
  },
  {
   "cell_type": "code",
   "execution_count": 21,
   "metadata": {},
   "outputs": [
    {
     "data": {
      "text/plain": [
       "\"0011111111110000000000000000000000000000000000000000000000000000\""
      ]
     },
     "execution_count": 21,
     "metadata": {},
     "output_type": "execute_result"
    }
   ],
   "source": [
    "bitstring(1.0)"
   ]
  },
  {
   "cell_type": "code",
   "execution_count": 22,
   "metadata": {},
   "outputs": [
    {
     "data": {
      "text/plain": [
       "\"0011110000000000\""
      ]
     },
     "execution_count": 22,
     "metadata": {},
     "output_type": "execute_result"
    }
   ],
   "source": [
    "bitstring(Float16(1.0))"
   ]
  },
  {
   "cell_type": "code",
   "execution_count": 23,
   "metadata": {},
   "outputs": [
    {
     "data": {
      "text/plain": [
       "\"0100000000000000000000000000000000000000000000000000000000000000\""
      ]
     },
     "execution_count": 23,
     "metadata": {},
     "output_type": "execute_result"
    }
   ],
   "source": [
    "bitstring(2.0)"
   ]
  },
  {
   "cell_type": "markdown",
   "metadata": {},
   "source": [
    "__Problem.__ Explain the above binary representations. "
   ]
  },
  {
   "cell_type": "markdown",
   "metadata": {},
   "source": [
    "### Examples\n",
    "\n",
    "__Using difference of squares__\n",
    "\n",
    "Compute\n",
    "\n",
    "$$\n",
    "f(x) = \\sqrt{1 + x^2} - 1, \\quad \\mbox{$x$ is near zero}.\n",
    "$$\n",
    "\n",
    "This formula in standard double precision yields\n",
    "$f(10^{-12}) = 0$."
   ]
  },
  {
   "cell_type": "code",
   "execution_count": 24,
   "metadata": {},
   "outputs": [
    {
     "name": "stdout",
     "output_type": "stream",
     "text": [
      "(1.0e-6, 5.000444502911705e-13)\n",
      "(1.0e-7, 4.884981308350689e-15)\n",
      "(1.0e-8, 0.0)\n",
      "(1.0e-9, 0.0)\n"
     ]
    }
   ],
   "source": [
    "f(x)=sqrt(1+x^2)-1\n",
    "x=1e-6\n",
    "for k=1:4\n",
    "    println((x,f(x)))\n",
    "    x=x/10\n",
    "end"
   ]
  },
  {
   "cell_type": "markdown",
   "metadata": {},
   "source": [
    "The difference-of-squares trick yields\n",
    "\n",
    "\\begin{eqnarray*}\n",
    "f(x) & \\equiv (\\sqrt{1 + x^2} - 1) \\left( \\frac{\\sqrt{1 + x^2} + 1}{\\sqrt{1 + x^2} + 1}\\right) \\\\\n",
    "& = \\frac{x^2}{\\sqrt{1+x^2} + 1}\\equiv f_1(x),\n",
    "\\end{eqnarray*}\n",
    "\n",
    "that is,  $f_1(10^{-12}) = 0.5 \\cdot 10^{-24}$. \n",
    "This answer is as accurate as we can expect in standard double precision."
   ]
  },
  {
   "cell_type": "code",
   "execution_count": 25,
   "metadata": {},
   "outputs": [
    {
     "name": "stdout",
     "output_type": "stream",
     "text": [
      "(1.0e-6, 4.99999999999875e-13)\n",
      "(1.0e-7, 4.999999999999987e-15)\n",
      "(1.0e-8, 5.0000000000000005e-17)\n",
      "(1.0e-9, 5.0e-19)\n",
      "(1.0e-10, 5.0000000000000005e-21)\n",
      "(1.0000000000000001e-11, 5.000000000000001e-23)\n",
      "(1.0000000000000002e-12, 5.000000000000001e-25)\n",
      "(1.0000000000000002e-13, 5.0000000000000016e-27)\n",
      "(1.0000000000000002e-14, 5.0000000000000015e-29)\n",
      "(1.0e-15, 5.0e-31)\n"
     ]
    }
   ],
   "source": [
    "f₁(x)=x^2/(1+sqrt(1+x^2))\n",
    "x=1e-6\n",
    "for k=1:10\n",
    "    println((x, f₁(x)))\n",
    "    x=x/10\n",
    "end"
   ]
  },
  {
   "cell_type": "code",
   "execution_count": 26,
   "metadata": {},
   "outputs": [
    {
     "data": {
      "text/plain": [
       "1.0e-12"
      ]
     },
     "execution_count": 26,
     "metadata": {},
     "output_type": "execute_result"
    }
   ],
   "source": [
    "x=1e-12"
   ]
  },
  {
   "cell_type": "code",
   "execution_count": 27,
   "metadata": {},
   "outputs": [
    {
     "data": {
      "text/plain": [
       "9.999999999999999798866476292556153672528435061295226660149637609720230102539062e-13"
      ]
     },
     "execution_count": 27,
     "metadata": {},
     "output_type": "execute_result"
    }
   ],
   "source": [
    "BigFloat(x)"
   ]
  },
  {
   "cell_type": "code",
   "execution_count": 28,
   "metadata": {},
   "outputs": [
    {
     "data": {
      "text/plain": [
       "4.99999999999999979886647504255615569526325357670149402898679501001332484014577e-25"
      ]
     },
     "execution_count": 28,
     "metadata": {},
     "output_type": "execute_result"
    }
   ],
   "source": [
    "f(BigFloat(x))"
   ]
  },
  {
   "cell_type": "markdown",
   "metadata": {},
   "source": [
    "__Quadratic equation__\n",
    "\n",
    "In exact arithmetic, the quadratic equation\n",
    "\n",
    "$$ ax^2 + bx+c=0$$\n",
    "\n",
    "has roots\n",
    "\n",
    "\\begin{align*}\n",
    "x_1&=\\frac{-b-\\mathop{\\mathrm{sign}}(b)\\sqrt{b^2-4ac}}{2a} \\\\\n",
    "x_2&\\equiv\\frac{-b+\\mathop{\\mathrm{sign}}(b)\\sqrt{b^2-4ac}}{2a}= \\frac{-b+\\mathop{\\mathrm{sign}}(b)\\sqrt{b^2-4ac}}{2a}\\cdot \\frac{-b-\\mathop{\\mathrm{sign}}(b)\\sqrt{b^2-4ac}}{-b-\\mathop{\\mathrm{sign}}(b)\\sqrt{b^2-4ac}}\n",
    "\\\\ &= \\frac{2c}{-b-\\mathop{\\mathrm{sign}}(b)\\sqrt{b^2-4ac}}\\equiv x_3.\n",
    "\\end{align*}"
   ]
  },
  {
   "cell_type": "code",
   "execution_count": 29,
   "metadata": {},
   "outputs": [
    {
     "data": {
      "text/plain": [
       "(-6.172839449999997e7, -3.3527612686157227e-8, -3.240000029484002e-8)"
      ]
     },
     "execution_count": 29,
     "metadata": {},
     "output_type": "execute_result"
    }
   ],
   "source": [
    "a=2.0\n",
    "b=123456789.0\n",
    "c=4.0\n",
    "\n",
    "x₁=(-b-sqrt(b*b-4*a*c))/(2.0*a)\n",
    "x₂=(-b+sqrt(b*b-4*a*c))/(2.0*a)\n",
    "x₃=(2*c)/(-b-sqrt(b*b-4*a*c))\n",
    "x₁,x₂,x₃"
   ]
  },
  {
   "cell_type": "markdown",
   "metadata": {},
   "source": [
    "Let us check using `BigFloat`:"
   ]
  },
  {
   "cell_type": "code",
   "execution_count": 30,
   "metadata": {},
   "outputs": [
    {
     "data": {
      "text/plain": [
       "-3.240000029484001968915648868258452417675753633383540995167795107129921671968718e-08"
      ]
     },
     "execution_count": 30,
     "metadata": {},
     "output_type": "execute_result"
    }
   ],
   "source": [
    "a=BigFloat(a)\n",
    "b=BigFloat(b)\n",
    "c=BigFloat(c)\n",
    "x₂=(-b+sqrt(b*b-4*a*c))/(2.0*a)"
   ]
  },
  {
   "cell_type": "markdown",
   "metadata": {
    "collapsed": true
   },
   "source": [
    "__Tangent and sine__"
   ]
  },
  {
   "cell_type": "code",
   "execution_count": 31,
   "metadata": {},
   "outputs": [
    {
     "data": {
      "text/plain": [
       "0.0"
      ]
     },
     "execution_count": 31,
     "metadata": {},
     "output_type": "execute_result"
    }
   ],
   "source": [
    "x=1e-10\n",
    "tan(x)-sin(x)"
   ]
  },
  {
   "cell_type": "markdown",
   "metadata": {},
   "source": [
    "However, the \n",
    "trigonometric identities give\n",
    "\n",
    "\\begin{align*}\n",
    "\\tan x - \\sin x & = \\tan x (1 - \\cos x ) \n",
    "= \\tan x (1-\\cos x)\\frac{1+\\cos x}{1+\\cos x}\\\\ & = \\tan x \\frac{1-\\cos^2 x}{1+\\cos x} \\\\\n",
    "&= \\tan x \\sin^2 x \\frac{1}{1+\\cos x},\n",
    "\\end{align*}\n",
    "\n",
    "and Taylor formula gives\n",
    "\n",
    "\\begin{align*}\n",
    "\\tan x &= x + \\frac{x^3}{3} + \\frac{2x^5}{15} + O(x^7) \\\\\n",
    "\\sin x &= x -\\frac{x^3}{6} + \\frac{x^5}{120}+O(x^7) \\\\\n",
    "\\tan x - \\sin x &= \\frac{x^3}{2} + \\frac{7x^5}{120} +O(x^7).\n",
    "\\end{align*}\n",
    "\n",
    "Both formulas give accurate resut:"
   ]
  },
  {
   "cell_type": "code",
   "execution_count": 32,
   "metadata": {},
   "outputs": [
    {
     "data": {
      "text/plain": [
       "(5.0e-31, 5.0e-31)"
      ]
     },
     "execution_count": 32,
     "metadata": {},
     "output_type": "execute_result"
    }
   ],
   "source": [
    "tan(x)*sin(x)^2/(1+cos(x)), x^3/2+7*x^5/120"
   ]
  },
  {
   "cell_type": "markdown",
   "metadata": {},
   "source": [
    "__Absolute value of a complex number__\n",
    "\n",
    "To avoid underflow or overflow, instead of using the standard formula \n",
    "\n",
    "$$\n",
    "|z|=|x+iy|=\\sqrt{x^2+y^2}\n",
    "$$\n",
    "\n",
    "we must use the following formulas (Explain!):\n",
    "\n",
    "$$\n",
    "M = \\max \\{ |x|,|y|\\}, \\quad m = \\min \\{ |x|,|y| \\}, \\quad r = \\frac{m}{M}, \\quad \n",
    "|z| = M \\sqrt{1+r^2}.\n",
    "$$\n",
    "\n",
    "These formulas are encoded in the function `abs()`."
   ]
  },
  {
   "cell_type": "code",
   "execution_count": 33,
   "metadata": {},
   "outputs": [
    {
     "data": {
      "text/plain": [
       "2.0e170 + 3.0e175im"
      ]
     },
     "execution_count": 33,
     "metadata": {},
     "output_type": "execute_result"
    }
   ],
   "source": [
    "z=2e+170+3e+175*im"
   ]
  },
  {
   "cell_type": "code",
   "execution_count": 34,
   "metadata": {},
   "outputs": [
    {
     "data": {
      "text/plain": [
       "(Inf, 3.0000000000666667e175)"
      ]
     },
     "execution_count": 34,
     "metadata": {},
     "output_type": "execute_result"
    }
   ],
   "source": [
    "sqrt(real(z)^2+imag(z)^2), abs(z)"
   ]
  },
  {
   "cell_type": "code",
   "execution_count": 35,
   "metadata": {},
   "outputs": [
    {
     "data": {
      "text/plain": [
       "(0.0, 2.000000000225e-170)"
      ]
     },
     "execution_count": 35,
     "metadata": {},
     "output_type": "execute_result"
    }
   ],
   "source": [
    "z=2e-170+3e-175*im\n",
    "sqrt(real(z)^2+imag(z)^2), abs(z)"
   ]
  },
  {
   "cell_type": "markdown",
   "metadata": {},
   "source": [
    "__Problem.__ Study the function [hypot](https://en.wikipedia.org/wiki/Hypot) and the  BLAS 1 function `dnrm2.f`."
   ]
  },
  {
   "cell_type": "code",
   "execution_count": 36,
   "metadata": {},
   "outputs": [
    {
     "data": {
      "text/plain": [
       "(0.0, 0.0)"
      ]
     },
     "execution_count": 36,
     "metadata": {},
     "output_type": "execute_result"
    }
   ],
   "source": [
    "real(z)^2, imag(z)^2"
   ]
  },
  {
   "cell_type": "code",
   "execution_count": null,
   "metadata": {},
   "outputs": [],
   "source": []
  }
 ],
 "metadata": {
  "@webio": {
   "lastCommId": null,
   "lastKernelId": null
  },
  "kernelspec": {
   "display_name": "Julia 1.5.2",
   "language": "julia",
   "name": "julia-1.5"
  },
  "language_info": {
   "file_extension": ".jl",
   "mimetype": "application/julia",
   "name": "julia",
   "version": "1.5.2"
  }
 },
 "nbformat": 4,
 "nbformat_minor": 1
}
