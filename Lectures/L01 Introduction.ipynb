{
 "cells": [
  {
   "cell_type": "markdown",
   "metadata": {},
   "source": [
    "# Introduction\n",
    "\n",
    "---\n",
    "\n",
    "__Numerical analysis is the science of computing the solutions of problems that are posed\n",
    "mathematically in the field of real or complex numbers.__\n",
    "\n",
    "Let us just give a couple of examples.\n",
    "\n",
    "__Computation of $\\pi \\approx 3.14159265358979$__\n",
    "\n",
    "$\\pi$ is known as the ratio of the circumference of a circle and its diameter.\n",
    "\n",
    "__Archimedes Method__\n",
    "\n",
    "Inscribe a regular $n$-gon in a circle of radius $1$. Compute the perimeter of its\n",
    "upper half. This is easiest to do if $n=2^k$. Using geometric reasoning,\n",
    "\n",
    "$$\n",
    "p(n) = 2n \\sin \\: \\frac{\\pi}{2n}.\n",
    "$$\n",
    "\n",
    "Even though this refers to $\\pi$ we can compute this value for $n=1,2,\\cdots, $ without\n",
    "computing $\\pi$ and without punching the $\\sin$ button on our calculator. (Computing\n",
    "the $\\sin$ function requires you to know $\\pi$!)\n",
    "\n",
    "From geometric reasoning, we know that\n",
    "\n",
    "$$\n",
    "\\sin \\: \\frac{\\pi}{2} =1, \\quad \\sin \\: \\frac{\\pi}{4} = \\frac{\\sqrt{2}}{2}.\n",
    "$$\n",
    "\n",
    "So\n",
    "\n",
    "$$\n",
    "p(1)= 2 \\cdot \\sin \\: \\frac{\\pi}{2} =2, \\quad p(2) = 4 \\cdot \\sin \\: \\frac{\\pi}{4} = 2\\sqrt{2}= 2.828427125\n",
    "$$\n",
    "\n",
    "but what is $p(4) = 8 \\cdot \\sin \\: \\displaystyle\\frac{\\pi}{8}$. Use half angle formulas!\n",
    "\n",
    "\\begin{eqnarray*}\n",
    "\\sin \\: \\frac{\\theta}{2} = \\sqrt{\\frac{1-\\cos \\: \\theta }{2}}, \\\\\n",
    "\\cos \\: \\theta = \\sqrt{1-\\sin^2 \\: \\theta } .\n",
    "\\end{eqnarray*}\n",
    "\n",
    "That yields\n",
    "\n",
    "$$\n",
    "\\sin \\: \\frac{\\pi}{8} = 0.382683432.\n",
    "$$\n",
    "\n",
    "Thus\n",
    "\n",
    "$$\n",
    "p(4) = 8 \\cdot \\sin \\: \\frac{\\pi}{8}=3.061467459.\n",
    "$$\n",
    "\n",
    "Continuing this process we get\n",
    "\n",
    "n | $\\sin\\displaystyle\\frac{\\pi}{2n}$ | $p(n)$\n",
    ":---|:---|:---\n",
    "1 | 1 | 2\n",
    "2 | $\\sqrt{0.5}$ | 2.82842712\n",
    "4 |  0.382683432 | 3.061467459\n",
    "8 | 0.195090322 | 3.121445152\n",
    "16 | 0.09801714 | 3.136548491\n",
    "32 | 0.049067674 | 3.140331157\n",
    "\n",
    "This method is slow, but \"sure\". "
   ]
  },
  {
   "cell_type": "code",
   "execution_count": 1,
   "metadata": {
    "collapsed": false
   },
   "outputs": [
    {
     "name": "stdout",
     "output_type": "stream",
     "text": [
      "2n = 4, approximation of pi = 2.8284271247461903\n",
      "2n = 8, approximation of pi = 3.0614674589207187\n",
      "2n = 16, approximation of pi = 3.121445152258053\n",
      "2n = 32, approximation of pi = 3.1365484905459406\n",
      "2n = 64, approximation of pi = 3.140331156954739\n"
     ]
    },
    {
     "data": {
      "text/plain": [
       "(\"true π\",π = 3.1415926535897...)"
      ]
     },
     "execution_count": 1,
     "metadata": {},
     "output_type": "execute_result"
    }
   ],
   "source": [
    "steps=5\n",
    "s=1.0\n",
    "c=0.0\n",
    "for n=1:steps\n",
    "    s=sqrt((1-c)/2)\n",
    "    c=sqrt(1-s^2)\n",
    "    println(\"2n = \", 2^(n+1), \", approximation of pi = \",2^(n+1)*s)\n",
    "end\n",
    "\"true π\", π"
   ]
  },
  {
   "cell_type": "markdown",
   "metadata": {},
   "source": [
    "__Question:__ Try to increase the number of steps and explain what is going on?"
   ]
  },
  {
   "cell_type": "markdown",
   "metadata": {},
   "source": [
    "Later, we will give a modern enhancement that\n",
    "is faster. Letting $h=1/(2n)$ we have that\n",
    "\n",
    "$$\n",
    "p(n) = \\frac{\\sin \\: \\pi h}{h} = \\pi -a_2 h^2 + a_4 h^4 - \\cdots\n",
    "$$\n",
    "\n",
    "where $a_k = \\pi^{k+1}/(k+1)!$. Thus this converges to $\\pi$ at roughly the rate of\n",
    "$O(h^2)$. This is an _approximation problem_. There is no finite algorithm\n",
    "to compute $\\pi$, since it is a transcendental number (irrational and not the root of\n",
    "any polynomial with integer coefficients). However, we can approximate it arbitrarily\n",
    "well."
   ]
  },
  {
   "cell_type": "markdown",
   "metadata": {},
   "source": [
    "The following problem poses completely different issues.\n",
    "\n",
    "Let us compute roots of $p(x) = ax^2 + bx +c =0$ for constants $a$, $b$ and $c$.\n",
    "\n",
    "The solution is just\n",
    "\n",
    "$$\n",
    "x_{1,2} = \\frac{ -b \\pm \\sqrt{b^2 - 4ac}}{2a}. \\tag{1}\n",
    "$$\n",
    "\n",
    "How do we go about writing a code to compute this.\n",
    "\n",
    "Take care of special cases.\n",
    "\n",
    "__Case I__ $a=0, b \\neq 0$.\n",
    "\n",
    "It is no longer a quadratic, it is linear. Only solution is\n",
    "\n",
    "$$\n",
    "x_1 = -c/b.\n",
    "$$\n",
    "\n",
    "__Case II__ $a=b=0$\n",
    "\n",
    "If $c \\neq 0$, no solution. If $c=0$, all $x$ are solutions.\n",
    "\n",
    "The cases you spent time on in high school had to do with the discriminant\n",
    "$b^2 - 4ac$.\n",
    "\n",
    "__Case III__ $b^2 -4ac < 0$. Two Complex Roots (not real).\n",
    "\n",
    "$$\n",
    "x_{1,2} = -\\frac{b}{2a} \\pm \\mathbf{i} \\frac{\\sqrt{4ac-b^2}}{2a}, \\quad \\mathbf{i}^2 = -1.\n",
    "$$\n",
    "\n",
    "__Case IV__ $b^2 - 4ac =0$. One Double Root (real)\n",
    "\n",
    "$$\n",
    "x_1 = x_2 = -\\frac{b}{2a}.\n",
    "$$\n",
    "\n",
    "__Case V__ $b^2 -4ac > 0$. Two Distinct Real Roots.\n",
    "Use Formula (1)?"
   ]
  },
  {
   "cell_type": "code",
   "execution_count": 2,
   "metadata": {
    "collapsed": false
   },
   "outputs": [
    {
     "data": {
      "text/plain": [
       "(-2.0,0.0)"
      ]
     },
     "execution_count": 2,
     "metadata": {},
     "output_type": "execute_result"
    }
   ],
   "source": [
    "a=1\n",
    "b=2\n",
    "c=10.0^(-17)\n",
    "x1=(-b-sqrt(b*b-4*a*c))/(2*a)\n",
    "x2=(-b+sqrt(b*b-4*a*c))/(2*a)\n",
    "\n",
    "x1,x2"
   ]
  },
  {
   "cell_type": "markdown",
   "metadata": {},
   "source": [
    "The two real roots are (to about 17 digits)\n",
    "\n",
    "$$\n",
    "x_1 = -2, \\quad x_2 = -5 \\cdot 10^{-18}.\n",
    "$$\n",
    "\n",
    "The above algorithm gets $x_1$ right, but $x_2 = 0$. The standard double precision floating-point number format, `Float64`, stores about $15$ decimal digits (54 binary digits) and in those 15 digits $\\sqrt{b^2 -4ac}-b =0$. \n",
    "That is because we are subtracting two close numbers and one of these is approximate, so this difference is \"all rounding error\". A simple observation gets around this problem.\n",
    "\n",
    "The \"large\" root of the quadratic in __Case V__ is\n",
    "\n",
    "$$\n",
    "x_1 = \\frac{ -b - \\mathrm{sign}(b) \\sqrt{b^2 - 4ac}}{2a}\n",
    "$$\n",
    "\n",
    "and the two roots satisfy\n",
    "\n",
    "$$\n",
    "x_1 x_2 = \\frac{c}{a}.\n",
    "$$\n",
    "\n",
    "Notice that except inside the square root, we are adding numbers of the same sign!\n",
    "After some algebra, we get a formula for the small root\n",
    "\n",
    "$$\n",
    "x_2 = \\frac{c}{a x_1} = \\frac{-2c}{ b + \\mathrm{sign}(b) \\sqrt{b^2 - 4ac}}.\n",
    "$$\n",
    "\n",
    "Using this formula we compute both roots to near machine precision.\n",
    "\n",
    "In this example, we have an exact formula, but in floating point arithmetic the standard quadratic formula\n",
    "yields results that are significantly different from what it yields in real arithmetic."
   ]
  },
  {
   "cell_type": "code",
   "execution_count": 3,
   "metadata": {
    "collapsed": false
   },
   "outputs": [
    {
     "data": {
      "text/plain": [
       "(-2.0,-5.0e-18)"
      ]
     },
     "execution_count": 3,
     "metadata": {},
     "output_type": "execute_result"
    }
   ],
   "source": [
    "x1=(-b-sign(b)*sqrt(b*b-4*a*c))/(2*a)\n",
    "x2=-2*c/(b+sign(b)*sqrt(b*b-4*a*c))\n",
    "x1,x2"
   ]
  },
  {
   "cell_type": "markdown",
   "metadata": {},
   "source": [
    "The following function implements all five cases. Try out the function with different inputs and cover all five cases."
   ]
  },
  {
   "cell_type": "code",
   "execution_count": 4,
   "metadata": {
    "collapsed": false
   },
   "outputs": [
    {
     "data": {
      "text/plain": [
       "quadroots (generic function with 1 method)"
      ]
     },
     "execution_count": 4,
     "metadata": {},
     "output_type": "execute_result"
    }
   ],
   "source": [
    "function quadroots(a,b,c)\n",
    "    # Function to find the roots of the quadratic equation\n",
    "    # given coefficients a,b, and c.\n",
    "    # This function takes no account of scaling. \n",
    "    if a==0\n",
    "        #  Check odd cases when a=0 \n",
    "        if b==0\n",
    "            if c==0\n",
    "                return \"all numbers are roots a=b=c=0\"\n",
    "            else\n",
    "                return \"no roots a=b=0, c ne 0\"\n",
    "            end\n",
    "        else\n",
    "            x1=-c/b\n",
    "            x2=x1\n",
    "            ier=\"one root a=0\"\n",
    "        end\n",
    "    else\n",
    "        disc= b*b-4*a*c\n",
    "        if disc < 0\n",
    "            # Two complex roots computed with real arithmetic\n",
    "            ximaginary=sqrt(-disc)/(2*a)\n",
    "            xreal=-b/(2*a)\n",
    "            x1=xreal+im*ximaginary\n",
    "            # x2 is the complex conjugate of x1, \n",
    "            # x2 = xreal - im*ximaginary\n",
    "            x2=conj(x1)\n",
    "        else\n",
    "            if b==0\n",
    "                # Since MATLAB handles complex arithmetic without a\n",
    "                # blink, we can just use the formula in this case.\n",
    "                x1=sqrt(-c)/a\n",
    "                x2=-x1\n",
    "            else\n",
    "                # Case where there are two real roots.\n",
    "                x1=(-b-sign(b)*sqrt(disc))/(2*a)\n",
    "                x2=-2*c/(b+sign(b)*sqrt(disc))\n",
    "            end\n",
    "        end\n",
    "        ier=\"roots are good\"\n",
    "    end\n",
    "    x1, x2, ier\n",
    "end\n"
   ]
  },
  {
   "cell_type": "code",
   "execution_count": 5,
   "metadata": {
    "collapsed": false
   },
   "outputs": [
    {
     "data": {
      "text/plain": [
       "(0.0 + 2.6457513110645907im,0.0 - 2.6457513110645907im,\"roots are good\")"
      ]
     },
     "execution_count": 5,
     "metadata": {},
     "output_type": "execute_result"
    }
   ],
   "source": [
    "quadroots(1,0,7)"
   ]
  },
  {
   "cell_type": "code",
   "execution_count": null,
   "metadata": {
    "collapsed": true
   },
   "outputs": [],
   "source": []
  }
 ],
 "metadata": {
  "anaconda-cloud": {},
  "kernelspec": {
   "display_name": "Julia 0.5.1",
   "language": "julia",
   "name": "julia-0.5"
  },
  "language_info": {
   "file_extension": ".jl",
   "mimetype": "application/julia",
   "name": "julia",
   "version": "0.5.1"
  }
 },
 "nbformat": 4,
 "nbformat_minor": 1
}
