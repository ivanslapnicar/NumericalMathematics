{
 "cells": [
  {
   "cell_type": "markdown",
   "metadata": {},
   "source": [
    "# Positive Definite Matrices and Cholesky Factorization \n",
    "\n",
    "\n",
    "Matrix $A$ is _positive definite_ if it is symmetric and all its eigenvalues are non-negative.\n",
    "\n",
    "Positive definite matrix can be factored (without pivoting) as\n",
    "\n",
    "$$\n",
    "A=L L^T\n",
    "$$\n",
    "\n",
    "where $L$ is lower triangular matrix with non-negative diagonal elements. This factorization is called\n",
    "__Cholesky factorization__ (see [Matrix Computations, section 4.2](https://books.google.hr/books?id=X5YfsuCWpxMC&printsec=frontcover&hl=hr#v=onepage&q&f=false)).\n",
    "\n",
    "From\n",
    "\n",
    "$$A=\\begin{pmatrix}\\alpha & a^T \\cr a  & B \\end{pmatrix}=\n",
    "\\begin{pmatrix} \\beta & 0 \\cr l & I \\end{pmatrix}\n",
    "\\begin{pmatrix} \\beta & l^T \\cr 0 & C \\end{pmatrix}\n",
    "=LL^T=\\begin{pmatrix} \\beta^2 & \\beta l^T \\cr l\\beta & ll^T+ C\\end{pmatrix}$$\n",
    "\n",
    "it follows \n",
    "\n",
    "$$\\beta=\\sqrt{\\alpha},\\quad l=a\\beta^{-1}=a\\alpha^{-1/2},\\quad C=B-ll^T=B-a\\alpha^{-1}a^T.$$\n",
    "\n",
    "Induction yields the following algorithm:"
   ]
  },
  {
   "cell_type": "code",
   "execution_count": 1,
   "metadata": {},
   "outputs": [
    {
     "data": {
      "text/plain": [
       "mychol (generic function with 1 method)"
      ]
     },
     "execution_count": 1,
     "metadata": {},
     "output_type": "execute_result"
    }
   ],
   "source": [
    "function mychol(A₁::Matrix{T}) where T\n",
    "    A=copy(A₁)\n",
    "    n,m=size(A)\n",
    "    for k=1:n\n",
    "        A[k,k]=sqrt(A[k,k])\n",
    "        for j=k+1:n\n",
    "            A[k,j]=A[k,j]/A[k,k]\n",
    "        end\n",
    "        for j=k+1:n\n",
    "            for i=k+1:n\n",
    "                A[i,j]=A[i,j]-A[k,i]*A[k,j]\n",
    "            end\n",
    "        end\n",
    "    end\n",
    "    triu(A)\n",
    "end"
   ]
  },
  {
   "cell_type": "code",
   "execution_count": 2,
   "metadata": {},
   "outputs": [
    {
     "data": {
      "text/plain": [
       "6×6 Array{Float64,2}:\n",
       " 2.55178  1.5773    2.45161  1.4524    1.72532   1.47381\n",
       " 1.5773   1.37753   1.94753  0.921758  1.33389   1.15142\n",
       " 2.45161  1.94753   3.20769  1.70859   1.8483    1.93312\n",
       " 1.4524   0.921758  1.70859  1.36416   0.917682  1.07317\n",
       " 1.72532  1.33389   1.8483   0.917682  1.53089   0.870358\n",
       " 1.47381  1.15142   1.93312  1.07317   0.870358  1.66766"
      ]
     },
     "execution_count": 2,
     "metadata": {},
     "output_type": "execute_result"
    }
   ],
   "source": [
    "A=rand(6,6)\n",
    "A=A*A'"
   ]
  },
  {
   "cell_type": "code",
   "execution_count": 3,
   "metadata": {},
   "outputs": [
    {
     "data": {
      "text/plain": [
       "Cholesky{Float64,Array{Float64,2}}\n",
       "U factor:\n",
       "6×6 UpperTriangular{Float64,Array{Float64,2}}:\n",
       " 1.59743  0.987397  1.53472   0.909208    1.08006     0.922613\n",
       "  ⋅       0.634492  0.681097  0.0378396   0.421501    0.378936\n",
       "  ⋅        ⋅        0.623236  0.461195   -0.154629    0.415692\n",
       "  ⋅        ⋅         ⋅        0.568653   -0.0157401   0.0497212\n",
       "  ⋅        ⋅         ⋅         ⋅          0.403165   -0.547614\n",
       "  ⋅        ⋅         ⋅         ⋅           ⋅          0.44463"
      ]
     },
     "execution_count": 3,
     "metadata": {},
     "output_type": "execute_result"
    }
   ],
   "source": [
    "using LinearAlgebra\n",
    "# Built-in function\n",
    "C=cholesky(A)"
   ]
  },
  {
   "cell_type": "code",
   "execution_count": 4,
   "metadata": {},
   "outputs": [
    {
     "data": {
      "text/plain": [
       "6×6 UpperTriangular{Float64,Array{Float64,2}}:\n",
       " 1.59743  0.987397  1.53472   0.909208    1.08006     0.922613\n",
       "  ⋅       0.634492  0.681097  0.0378396   0.421501    0.378936\n",
       "  ⋅        ⋅        0.623236  0.461195   -0.154629    0.415692\n",
       "  ⋅        ⋅         ⋅        0.568653   -0.0157401   0.0497212\n",
       "  ⋅        ⋅         ⋅         ⋅          0.403165   -0.547614\n",
       "  ⋅        ⋅         ⋅         ⋅           ⋅          0.44463"
      ]
     },
     "execution_count": 4,
     "metadata": {},
     "output_type": "execute_result"
    }
   ],
   "source": [
    "# Extract L from the structure\n",
    "L=C.U"
   ]
  },
  {
   "cell_type": "code",
   "execution_count": 5,
   "metadata": {},
   "outputs": [
    {
     "data": {
      "text/plain": [
       "6×6 Array{Float64,2}:\n",
       "  0.0          0.0  0.0  0.0  -2.22045e-16  0.0\n",
       "  0.0          0.0  0.0  0.0   0.0          0.0\n",
       "  0.0          0.0  0.0  0.0   0.0          0.0\n",
       "  0.0          0.0  0.0  0.0   0.0          0.0\n",
       " -2.22045e-16  0.0  0.0  0.0   0.0          0.0\n",
       "  0.0          0.0  0.0  0.0   0.0          0.0"
      ]
     },
     "execution_count": 5,
     "metadata": {},
     "output_type": "execute_result"
    }
   ],
   "source": [
    "# Residual\n",
    "L'*L-A"
   ]
  },
  {
   "cell_type": "code",
   "execution_count": 6,
   "metadata": {
    "scrolled": true
   },
   "outputs": [
    {
     "data": {
      "text/plain": [
       "6×6 Array{Float64,2}:\n",
       " 1.59743  0.987397  1.53472   0.909208    1.08006     0.922613\n",
       " 0.0      0.634492  0.681097  0.0378396   0.421501    0.378936\n",
       " 0.0      0.0       0.623236  0.461195   -0.154629    0.415692\n",
       " 0.0      0.0       0.0       0.568653   -0.0157401   0.0497212\n",
       " 0.0      0.0       0.0       0.0         0.403165   -0.547614\n",
       " 0.0      0.0       0.0       0.0         0.0         0.44463"
      ]
     },
     "execution_count": 6,
     "metadata": {},
     "output_type": "execute_result"
    }
   ],
   "source": [
    "# Our function\n",
    "L₁=mychol(A)"
   ]
  },
  {
   "cell_type": "code",
   "execution_count": 7,
   "metadata": {},
   "outputs": [
    {
     "data": {
      "text/plain": [
       "6×6 Array{Float64,2}:\n",
       "  0.0          0.0   0.0          0.0  -2.22045e-16   0.0\n",
       "  0.0          0.0   0.0          0.0   0.0           0.0\n",
       "  0.0          0.0   0.0          0.0   0.0          -2.22045e-16\n",
       "  0.0          0.0   0.0          0.0   0.0           0.0\n",
       " -2.22045e-16  0.0   0.0          0.0   0.0           0.0\n",
       "  0.0          0.0  -2.22045e-16  0.0   0.0           0.0"
      ]
     },
     "execution_count": 7,
     "metadata": {},
     "output_type": "execute_result"
    }
   ],
   "source": [
    "# Residual\n",
    "L₁'*L₁-A"
   ]
  },
  {
   "cell_type": "code",
   "execution_count": null,
   "metadata": {},
   "outputs": [],
   "source": []
  }
 ],
 "metadata": {
  "@webio": {
   "lastCommId": "0a1896e424ee4778a4cf116f76a64818",
   "lastKernelId": "ad9dbee0-076c-4b09-911b-36bcc7913b12"
  },
  "kernelspec": {
   "display_name": "Julia 1.5.2",
   "language": "julia",
   "name": "julia-1.5"
  },
  "language_info": {
   "file_extension": ".jl",
   "mimetype": "application/julia",
   "name": "julia",
   "version": "1.5.2"
  }
 },
 "nbformat": 4,
 "nbformat_minor": 1
}
